{
 "cells": [
  {
   "cell_type": "markdown",
   "id": "4167758e",
   "metadata": {},
   "source": [
    "1. Scenario: A company wants to analyze the sales performance of its products in different regions. They have collected the following data: Region A: [10, 15, 12, 8, 14] Region B: [18, 20, 16, 22, 25] Calculate the mean sales for each region."
   ]
  },
  {
   "cell_type": "code",
   "execution_count": 1,
   "id": "e144ec57",
   "metadata": {},
   "outputs": [],
   "source": [
    "#Mean can be calculated as sum of the element divided by number of elements \n",
    "#So here we can build a function for calculating mean\n",
    "\n",
    "#We can use inbuilt function for calculating mean\n"
   ]
  },
  {
   "cell_type": "code",
   "execution_count": 4,
   "id": "ed075322",
   "metadata": {},
   "outputs": [],
   "source": [
    "Region_A=[10, 15, 12, 8, 14] \n",
    "Region_B=[18, 20, 16, 22, 25] "
   ]
  },
  {
   "cell_type": "code",
   "execution_count": 143,
   "id": "658fb563",
   "metadata": {},
   "outputs": [
    {
     "data": {
      "text/plain": [
       "11.8"
      ]
     },
     "execution_count": 143,
     "metadata": {},
     "output_type": "execute_result"
    }
   ],
   "source": [
    "import numpy as np\n",
    "np.mean(Region_A)"
   ]
  },
  {
   "cell_type": "code",
   "execution_count": 144,
   "id": "a0b35cde",
   "metadata": {},
   "outputs": [
    {
     "data": {
      "text/plain": [
       "20.2"
      ]
     },
     "execution_count": 144,
     "metadata": {},
     "output_type": "execute_result"
    }
   ],
   "source": [
    "np.mean(Region_B)"
   ]
  },
  {
   "cell_type": "code",
   "execution_count": 6,
   "id": "9fc640c7",
   "metadata": {},
   "outputs": [],
   "source": [
    "def mean_given(l):\n",
    "    len_list=len(l)\n",
    "    total_sum=sum(l)\n",
    "    mean=total_sum/len_list\n",
    "    return mean"
   ]
  },
  {
   "cell_type": "code",
   "execution_count": 7,
   "id": "9be1981b",
   "metadata": {},
   "outputs": [
    {
     "data": {
      "text/plain": [
       "11.8"
      ]
     },
     "execution_count": 7,
     "metadata": {},
     "output_type": "execute_result"
    }
   ],
   "source": [
    "mean_given(Region_A)"
   ]
  },
  {
   "cell_type": "code",
   "execution_count": 8,
   "id": "4ab7889b",
   "metadata": {},
   "outputs": [
    {
     "data": {
      "text/plain": [
       "20.2"
      ]
     },
     "execution_count": 8,
     "metadata": {},
     "output_type": "execute_result"
    }
   ],
   "source": [
    "mean_given(Region_B)"
   ]
  },
  {
   "cell_type": "code",
   "execution_count": 10,
   "id": "4edc8584",
   "metadata": {},
   "outputs": [
    {
     "name": "stdout",
     "output_type": "stream",
     "text": [
      "mean of region A is: 11.8\n",
      "mean of region B is: 20.2\n"
     ]
    },
    {
     "name": "stderr",
     "output_type": "stream",
     "text": [
      "C:\\Users\\WONDER\\AppData\\Local\\Temp\\ipykernel_552\\2604749447.py:2: DeprecationWarning: scipy.mean is deprecated and will be removed in SciPy 2.0.0, use numpy.mean instead\n",
      "  ans1=scipy.mean(Region_A)\n",
      "C:\\Users\\WONDER\\AppData\\Local\\Temp\\ipykernel_552\\2604749447.py:3: DeprecationWarning: scipy.mean is deprecated and will be removed in SciPy 2.0.0, use numpy.mean instead\n",
      "  ans2=scipy.mean(Region_B)\n"
     ]
    }
   ],
   "source": [
    "import scipy\n",
    "ans1=scipy.mean(Region_A)\n",
    "ans2=scipy.mean(Region_B)\n",
    "print('mean of region A is:',ans1)\n",
    "print('mean of region B is:',ans2)"
   ]
  },
  {
   "cell_type": "code",
   "execution_count": null,
   "id": "6d23bc54",
   "metadata": {},
   "outputs": [],
   "source": []
  },
  {
   "cell_type": "code",
   "execution_count": null,
   "id": "c833e3a3",
   "metadata": {},
   "outputs": [],
   "source": []
  },
  {
   "cell_type": "code",
   "execution_count": null,
   "id": "4101d28a",
   "metadata": {},
   "outputs": [],
   "source": []
  },
  {
   "cell_type": "markdown",
   "id": "53c65d71",
   "metadata": {},
   "source": [
    "2. Scenario: A survey is conducted to measure customer satisfaction on a scale of 1 to 5. The data collected is as follows: [4, 5, 2, 3, 5, 4, 3, 2, 4, 5] Calculate the mode of the survey responses."
   ]
  },
  {
   "cell_type": "code",
   "execution_count": 11,
   "id": "71288a37",
   "metadata": {},
   "outputs": [],
   "source": [
    "#Mode is defined as the most freuent element in given list \n",
    "#We can use scipy to calculate mode of a list.\n",
    "#we can use inbuilt function to calculate mode of a list"
   ]
  },
  {
   "cell_type": "code",
   "execution_count": 14,
   "id": "a792fb87",
   "metadata": {},
   "outputs": [
    {
     "name": "stdout",
     "output_type": "stream",
     "text": [
      " mode of given list is: [4]\n"
     ]
    },
    {
     "name": "stderr",
     "output_type": "stream",
     "text": [
      "C:\\Users\\WONDER\\AppData\\Local\\Temp\\ipykernel_552\\4273752997.py:3: FutureWarning: Unlike other reduction functions (e.g. `skew`, `kurtosis`), the default behavior of `mode` typically preserves the axis it acts along. In SciPy 1.11.0, this behavior will change: the default value of `keepdims` will become False, the `axis` over which the statistic is taken will be eliminated, and the value None will no longer be accepted. Set `keepdims` to True or False to avoid this warning.\n",
      "  result=scipy.stats.mode(list1)\n"
     ]
    }
   ],
   "source": [
    "list1=[4, 5, 2, 3, 5, 4, 3, 2, 4, 5]\n",
    "import scipy\n",
    "result=scipy.stats.mode(list1)\n",
    "print(\" mode of given list is:\",result[0])"
   ]
  },
  {
   "cell_type": "code",
   "execution_count": 35,
   "id": "adcb660f",
   "metadata": {},
   "outputs": [],
   "source": [
    "def mode(arr):\n",
    "    count={}\n",
    "    for i in range(len(arr)):\n",
    "        c=arr[i]\n",
    "        count[c]=count.get(c,0)+1\n",
    "        \n",
    "    return max(count,key=count.get)\n"
   ]
  },
  {
   "cell_type": "code",
   "execution_count": 36,
   "id": "361aa3ff",
   "metadata": {},
   "outputs": [
    {
     "data": {
      "text/plain": [
       "4"
      ]
     },
     "execution_count": 36,
     "metadata": {},
     "output_type": "execute_result"
    }
   ],
   "source": [
    "mode(list1)"
   ]
  },
  {
   "cell_type": "code",
   "execution_count": null,
   "id": "d4659625",
   "metadata": {},
   "outputs": [],
   "source": []
  },
  {
   "cell_type": "code",
   "execution_count": null,
   "id": "8c5fc996",
   "metadata": {},
   "outputs": [],
   "source": []
  },
  {
   "cell_type": "markdown",
   "id": "2a0eebe9",
   "metadata": {},
   "source": [
    "3. Scenario: A company wants to compare the salaries of two departments. The salary data for Department A and Department B are as follows: Department A: [5000, 6000, 5500, 7000] Department B: [4500, 5500, 5800, 6000, 5200] Calculate the median salary for each department."
   ]
  },
  {
   "cell_type": "code",
   "execution_count": 37,
   "id": "fae5e87e",
   "metadata": {},
   "outputs": [],
   "source": [
    "#Mode of given list is caclulated as the middle value of the list \n",
    "#If number of elemets is odd then middle value is median , If number of values are even then sum of middle two values divide by len of list will give middle value.\n",
    "\n",
    "#We can use statistics to cqalculate median\n",
    "#using inbult function"
   ]
  },
  {
   "cell_type": "code",
   "execution_count": 38,
   "id": "61c738dc",
   "metadata": {},
   "outputs": [],
   "source": [
    "A=[5000, 6000, 5500, 7000]\n",
    "B= [4500, 5500, 5800, 6000, 5200] "
   ]
  },
  {
   "cell_type": "code",
   "execution_count": 40,
   "id": "c904eddb",
   "metadata": {},
   "outputs": [
    {
     "name": "stdout",
     "output_type": "stream",
     "text": [
      "Median of A is : 5750.0\n",
      "median of B is:  5500\n"
     ]
    }
   ],
   "source": [
    "import statistics\n",
    "res1=statistics.median(A)\n",
    "res2=statistics.median(B)\n",
    "\n",
    "print(\"Median of A is :\",res1)\n",
    "print(\"median of B is: \",res2)"
   ]
  },
  {
   "cell_type": "code",
   "execution_count": 96,
   "id": "a8658f5d",
   "metadata": {},
   "outputs": [],
   "source": [
    "def in_median(arr):\n",
    "    n=len(arr)\n",
    "    p=0\n",
    "    q=len(arr)\n",
    "    if len(arr)%2 == 0:\n",
    "        mid=p+q//2\n",
    "        k=mid-1\n",
    "        l=mid\n",
    "        middle=(arr[k]+arr[l])/2\n",
    "    else:\n",
    "        mid=(p+q)//2\n",
    "        middle=arr[mid-1]\n",
    "    return middle\n",
    "        \n",
    "        "
   ]
  },
  {
   "cell_type": "code",
   "execution_count": 98,
   "id": "e857e70c",
   "metadata": {},
   "outputs": [
    {
     "data": {
      "text/plain": [
       "5750.0"
      ]
     },
     "execution_count": 98,
     "metadata": {},
     "output_type": "execute_result"
    }
   ],
   "source": [
    "in_median(A)"
   ]
  },
  {
   "cell_type": "code",
   "execution_count": 100,
   "id": "632e7edc",
   "metadata": {},
   "outputs": [
    {
     "data": {
      "text/plain": [
       "5500"
      ]
     },
     "execution_count": 100,
     "metadata": {},
     "output_type": "execute_result"
    }
   ],
   "source": [
    "in_median(B)"
   ]
  },
  {
   "cell_type": "code",
   "execution_count": null,
   "id": "7bf26091",
   "metadata": {},
   "outputs": [],
   "source": []
  },
  {
   "cell_type": "code",
   "execution_count": null,
   "id": "fd2b8e71",
   "metadata": {},
   "outputs": [],
   "source": []
  },
  {
   "cell_type": "code",
   "execution_count": null,
   "id": "0b311055",
   "metadata": {},
   "outputs": [],
   "source": []
  },
  {
   "cell_type": "markdown",
   "id": "6ae9b073",
   "metadata": {},
   "source": [
    "4. Scenario: A data analyst wants to determine the variability in the daily stock prices of a company. The data collected is as follows: [25.5, 24.8, 26.1, 25.3, 24.9] Calculate the range of the stock prices."
   ]
  },
  {
   "cell_type": "code",
   "execution_count": 101,
   "id": "28b58acc",
   "metadata": {},
   "outputs": [],
   "source": [
    "#Range of given list is nothing but the difference of  Minimum and Maximum value in the list.\n",
    "#Difference of The Minimum and Maximum of a list is known as Range"
   ]
  },
  {
   "cell_type": "code",
   "execution_count": 102,
   "id": "633eea6a",
   "metadata": {},
   "outputs": [],
   "source": [
    "def range_given(arr):\n",
    "    maxi=max(arr)\n",
    "    mini=min(arr)\n",
    "    arr_range=maxi-mini\n",
    "    return arr_range"
   ]
  },
  {
   "cell_type": "code",
   "execution_count": 103,
   "id": "b94e9a43",
   "metadata": {},
   "outputs": [],
   "source": [
    "arr=[25.5, 24.8, 26.1, 25.3, 24.9]"
   ]
  },
  {
   "cell_type": "code",
   "execution_count": 104,
   "id": "836f3bda",
   "metadata": {},
   "outputs": [
    {
     "data": {
      "text/plain": [
       "1.3000000000000007"
      ]
     },
     "execution_count": 104,
     "metadata": {},
     "output_type": "execute_result"
    }
   ],
   "source": [
    "range_given(arr)"
   ]
  },
  {
   "cell_type": "code",
   "execution_count": 105,
   "id": "5a787314",
   "metadata": {},
   "outputs": [
    {
     "data": {
      "text/plain": [
       "26.1"
      ]
     },
     "execution_count": 105,
     "metadata": {},
     "output_type": "execute_result"
    }
   ],
   "source": [
    "max(arr)"
   ]
  },
  {
   "cell_type": "code",
   "execution_count": 106,
   "id": "f8a65d16",
   "metadata": {},
   "outputs": [
    {
     "data": {
      "text/plain": [
       "24.8"
      ]
     },
     "execution_count": 106,
     "metadata": {},
     "output_type": "execute_result"
    }
   ],
   "source": [
    "min(arr)"
   ]
  },
  {
   "cell_type": "code",
   "execution_count": 107,
   "id": "a047882c",
   "metadata": {},
   "outputs": [
    {
     "data": {
      "text/plain": [
       "1.3000000000000007"
      ]
     },
     "execution_count": 107,
     "metadata": {},
     "output_type": "execute_result"
    }
   ],
   "source": [
    "max(arr)-min(arr)"
   ]
  },
  {
   "cell_type": "code",
   "execution_count": null,
   "id": "8fc9beba",
   "metadata": {},
   "outputs": [],
   "source": []
  },
  {
   "cell_type": "code",
   "execution_count": null,
   "id": "6d1d9919",
   "metadata": {},
   "outputs": [],
   "source": []
  },
  {
   "cell_type": "code",
   "execution_count": null,
   "id": "95121d34",
   "metadata": {},
   "outputs": [],
   "source": []
  },
  {
   "cell_type": "markdown",
   "id": "6ea36485",
   "metadata": {},
   "source": [
    "5. Scenario: A study is conducted to compare the performance of two different teaching methods. The test scores of the students in each group are as follows: Group A: [85, 90, 92, 88, 91] Group B: [82, 88, 90, 86, 87] Perform a t-test to determine if there is a significant difference in the mean scores between the two groups."
   ]
  },
  {
   "cell_type": "code",
   "execution_count": 108,
   "id": "e181a23c",
   "metadata": {},
   "outputs": [],
   "source": [
    "#Here given two diffrenet teaching method tests , So here we canb sqay that we can perform Two tail or Independent t-test.\n",
    "#The formula of independent t-tests is given as \n",
    "#   Formula:\n",
    "  # t = (x1 - x2) / √((s1^2 / n1) + (s2^2 / n2))\n",
    "\n",
    "   #Where:\n",
    "   # t is the t-statistic\n",
    "   # x1 and x2 are the means of the two samples\n",
    "   # s1 and s2 are the standard deviations of the two samples\n",
    "   # n1 and n2 are the sample sizes of the two samples"
   ]
  },
  {
   "cell_type": "code",
   "execution_count": 64,
   "id": "3eeef3e8",
   "metadata": {},
   "outputs": [],
   "source": [
    "Group_A=[85, 90, 92, 88, 91]\n",
    "Group_B=[82, 88, 90, 86, 87] "
   ]
  },
  {
   "cell_type": "code",
   "execution_count": 112,
   "id": "3f38772d",
   "metadata": {},
   "outputs": [],
   "source": [
    "#Using scipy\n",
    "from scipy.stats import ttest_ind\n",
    "result=ttest_ind(Group_A,Group_B)"
   ]
  },
  {
   "cell_type": "code",
   "execution_count": 113,
   "id": "e2ab2d4f",
   "metadata": {},
   "outputs": [
    {
     "name": "stdout",
     "output_type": "stream",
     "text": [
      "Ttest_indResult(statistic=1.4312528946642733, pvalue=0.19023970239078333)\n"
     ]
    }
   ],
   "source": [
    "print(result)"
   ]
  },
  {
   "cell_type": "raw",
   "id": "ce3a55f8",
   "metadata": {},
   "source": [
    "1.taking alternate hypothsis as not significant difference in means of two groups and alternate hypothesis as  as difference in means of two groups.\n",
    "\n",
    "\n",
    "2.let taking significance value as 0.05.\n",
    "\n",
    "3.The degrees of freedom for an independent samples t-test is the sum of the degrees of freedom for both groups, d f T = d f 1 + d f 2 . Sometimes this is simplified as d f T = n − 2 , where n is the sum of the sample sizes for both groups.\n",
    "\n",
    "4.Here degree of freedom is 10-2=8.\n",
    "\n",
    "3.Critical value we may get between +3.833 and -3.833..(calculate from t-tqable two tailed test)\n",
    "\n",
    "4.Here test static fall with in the region so reject null hypothesis\n",
    "\n"
   ]
  },
  {
   "cell_type": "code",
   "execution_count": null,
   "id": "ac2e0447",
   "metadata": {},
   "outputs": [],
   "source": []
  },
  {
   "cell_type": "code",
   "execution_count": 116,
   "id": "6e7c1ea8",
   "metadata": {},
   "outputs": [],
   "source": [
    "#Building a function for calculating t_test for two independent groups\n",
    "import scipy\n",
    "import math\n",
    "def t_test_ind(arr1,arr2):\n",
    "    n1=len(arr1)                                     # t = (x1 - x2) / √((s1^2 / n1) + (s2^2 / n2))\n",
    "    n2=len(arr2)\n",
    "    mean_1=sum(arr1)/n1\n",
    "    mean_2=sum(arr2)/n2\n",
    "    \n",
    "    std1=scipy.stats.tstd(arr1)\n",
    "    std2=scipy.stats.tstd(arr2)\n",
    "    \n",
    "    result=(mean_1-mean_2) /math.sqrt(((std1**2)/n1)+((std2**2)/n2))\n",
    "    \n",
    "    return result"
   ]
  },
  {
   "cell_type": "code",
   "execution_count": 118,
   "id": "6a90f950",
   "metadata": {},
   "outputs": [
    {
     "data": {
      "text/plain": [
       "1.4312528946642737"
      ]
     },
     "execution_count": 118,
     "metadata": {},
     "output_type": "execute_result"
    }
   ],
   "source": [
    "t_test_ind(Group_A,Group_B)"
   ]
  },
  {
   "cell_type": "raw",
   "id": "f6763497",
   "metadata": {},
   "source": [
    "1.taking alternate hypothsis as not significant difference in means of two groups and alternate hypothesis as  as difference in means of two groups.\n",
    "\n",
    "\n",
    "2.let taking significance value as 0.05.\n",
    "\n",
    "3.The degrees of freedom for an independent samples t-test is the sum of the degrees of freedom for both groups, d f T = d f 1 + d f 2 . Sometimes this is simplified as d f T = n − 2 , where n is the sum of the sample sizes for both groups.\n",
    "\n",
    "4.Here degree of freedom is 10-2=8.\n",
    "\n",
    "3.Critical value we may get between +3.833 and -3.833..(calculate from t-tqable two tailed test)\n",
    "\n",
    "4.Here test static fall with in the region so reject null hypothesis\n"
   ]
  },
  {
   "cell_type": "code",
   "execution_count": null,
   "id": "84b0dabc",
   "metadata": {},
   "outputs": [],
   "source": []
  },
  {
   "cell_type": "code",
   "execution_count": null,
   "id": "bc743e25",
   "metadata": {},
   "outputs": [],
   "source": []
  },
  {
   "cell_type": "markdown",
   "id": "88238d9b",
   "metadata": {},
   "source": [
    "6. Scenario: A company wants to analyze the relationship between advertising expenditure and sales. The data collected is as follows: Advertising Expenditure (in thousands): [10, 15, 12, 8, 14] Sales (in thousands): [25, 30, 28, 20, 26] Calculate the correlation coefficient between advertising expenditure and sales."
   ]
  },
  {
   "cell_type": "code",
   "execution_count": 119,
   "id": "df457530",
   "metadata": {},
   "outputs": [],
   "source": [
    "#Correlation is nothing but the linear relations ship between two variables.\n",
    "#we canb calculate correlation coefficient using scipy\n",
    "#There are Pearsons correlation coefficient and speramans correlation coefficient we calculate both here.\n"
   ]
  },
  {
   "cell_type": "code",
   "execution_count": 122,
   "id": "53214738",
   "metadata": {},
   "outputs": [],
   "source": [
    "ADV=[10, 15, 12, 8, 14] \n",
    "sales= [25, 30, 28, 20, 26] "
   ]
  },
  {
   "cell_type": "code",
   "execution_count": 123,
   "id": "74f0a644",
   "metadata": {},
   "outputs": [
    {
     "name": "stdout",
     "output_type": "stream",
     "text": [
      "Correlation coefficient using pearsons is :  PearsonRResult(statistic=0.8757511375750133, pvalue=0.05158319418821717)\n",
      "Correlation coefficient using spearsman rank coefficient:  SignificanceResult(statistic=0.8999999999999998, pvalue=0.03738607346849874)\n"
     ]
    }
   ],
   "source": [
    "#To calculate correlation coefficient using scipy library\n",
    "import scipy\n",
    "pearsons=scipy.stats.pearsonr(ADV,sales)\n",
    "sperman=scipy.stats.spearmanr(ADV,sales)\n",
    "\n",
    "print(\"Correlation coefficient using pearsons is : \",pearsons)\n",
    "print(\"Correlation coefficient using spearsman rank coefficient: \",sperman)"
   ]
  },
  {
   "cell_type": "code",
   "execution_count": null,
   "id": "6c9765c4",
   "metadata": {},
   "outputs": [],
   "source": []
  },
  {
   "cell_type": "code",
   "execution_count": null,
   "id": "e5b8bd3d",
   "metadata": {},
   "outputs": [],
   "source": []
  },
  {
   "cell_type": "code",
   "execution_count": null,
   "id": "04075e63",
   "metadata": {},
   "outputs": [],
   "source": []
  },
  {
   "cell_type": "markdown",
   "id": "25bcc512",
   "metadata": {},
   "source": [
    "7. Scenario: A survey is conducted to measure the heights of a group of people. The data collected is as follows: [160, 170, 165, 155, 175, 180, 170] Calculate the standard deviation of the heights."
   ]
  },
  {
   "cell_type": "code",
   "execution_count": 124,
   "id": "848fe25f",
   "metadata": {},
   "outputs": [],
   "source": [
    "#Standard deviation is nothing but the square root of variance , std will gives an elemnt far from its mean value.\n"
   ]
  },
  {
   "cell_type": "code",
   "execution_count": 125,
   "id": "4649ca1b",
   "metadata": {},
   "outputs": [
    {
     "name": "stdout",
     "output_type": "stream",
     "text": [
      "Standard deviation of given arr is : 8.591246929842246\n"
     ]
    }
   ],
   "source": [
    "arr= [160, 170, 165, 155, 175, 180, 170]\n",
    "import scipy\n",
    "result=scipy.stats.tstd(arr)\n",
    "print('Standard deviation of given arr is :',result)"
   ]
  },
  {
   "cell_type": "code",
   "execution_count": null,
   "id": "8a588ce8",
   "metadata": {},
   "outputs": [],
   "source": []
  },
  {
   "cell_type": "code",
   "execution_count": null,
   "id": "4fe818fc",
   "metadata": {},
   "outputs": [],
   "source": []
  },
  {
   "cell_type": "code",
   "execution_count": null,
   "id": "b9ff9e98",
   "metadata": {},
   "outputs": [],
   "source": []
  },
  {
   "cell_type": "markdown",
   "id": "93f7b2d5",
   "metadata": {},
   "source": [
    "8. Scenario: A company wants to analyze the relationship between employee tenure and job satisfaction. The data collected is as follows:\n",
    "Employee Tenure (in years): [2, 3, 5, 4, 6, 2, 4] Job Satisfaction (on a scale of 1 to 10): [7, 8, 6, 9, 5, 7, 6] Perform a linear regression analysis to predict job satisfaction based on employee tenure"
   ]
  },
  {
   "cell_type": "code",
   "execution_count": 145,
   "id": "d533f25c",
   "metadata": {},
   "outputs": [],
   "source": [
    "import numpy as np\n",
    "import matplotlib.pyplot as plt\n",
    "\n",
    "def estimate_coeef(x,y):\n",
    "    n=np.size(x)\n",
    "    \n",
    "    m_x=np.mean(x)\n",
    "    m_y=np.mean(y)\n",
    "    \n",
    "    ss_xy=np.sum(y*x)-n*m_y*m_x\n",
    "    ss_xx=np.sum(x*x)-n*m_x*m_x\n",
    "    \n",
    "    b_1=ss_xy /ss_xx\n",
    "    b_0=m_y - b_1*m_x\n",
    "    \n",
    "    return (b_0,b_1)\n",
    "    "
   ]
  },
  {
   "cell_type": "code",
   "execution_count": 148,
   "id": "e29d085f",
   "metadata": {},
   "outputs": [],
   "source": [
    "years= [2, 3, 5, 4, 6, 2, 4] \n",
    "job_sat= [7, 8, 6, 9, 5, 7, 6]\n",
    "x=np.array(years)\n",
    "y=np.array(job_sat)"
   ]
  },
  {
   "cell_type": "code",
   "execution_count": 149,
   "id": "53690f06",
   "metadata": {},
   "outputs": [
    {
     "data": {
      "text/plain": [
       "(8.59574468085106, -0.46808510638297807)"
      ]
     },
     "execution_count": 149,
     "metadata": {},
     "output_type": "execute_result"
    }
   ],
   "source": [
    "estimate_coeef(x,y)"
   ]
  },
  {
   "cell_type": "code",
   "execution_count": 150,
   "id": "cc8834ea",
   "metadata": {},
   "outputs": [],
   "source": [
    "def plot_regression_line(x, y, b):\n",
    "    \n",
    "    plt.scatter(x, y, color = \"m\",\n",
    "               marker = \"o\", s = 30)\n",
    "    y_pred = b[0] + b[1]*x\n",
    "    plt.plot(x, y_pred, color = \"g\")\n",
    "    plt.xlabel('x')\n",
    "    plt.ylabel('y')\n",
    " \n",
    "    \n",
    "    plt.show()"
   ]
  },
  {
   "cell_type": "code",
   "execution_count": 151,
   "id": "cfc24ebd",
   "metadata": {},
   "outputs": [
    {
     "data": {
      "image/png": "[encoded data removed]",
      "text/plain": [
       "<Figure size 640x480 with 1 Axes>"
      ]
     },
     "metadata": {},
     "output_type": "display_data"
    }
   ],
   "source": [
    "b=estimate_coeef(x,y)\n",
    "plot_regression_line(x,y,b)"
   ]
  },
  {
   "cell_type": "code",
   "execution_count": null,
   "id": "1e5d646c",
   "metadata": {},
   "outputs": [],
   "source": [
    "#From above fig we can say data are not fitted well."
   ]
  },
  {
   "cell_type": "code",
   "execution_count": null,
   "id": "c1d08056",
   "metadata": {},
   "outputs": [],
   "source": []
  },
  {
   "cell_type": "code",
   "execution_count": null,
   "id": "491eb857",
   "metadata": {},
   "outputs": [],
   "source": []
  },
  {
   "cell_type": "markdown",
   "id": "8e7ee284",
   "metadata": {},
   "source": [
    "9. Scenario: A study is conducted to compare the effectiveness of two different medications. The recovery times of the patients in each group are as follows: Medication A: [10, 12, 14, 11, 13] Medication B: [15, 17, 16, 14, 18] Perform an analysis of variance (ANOVA) to determine if there is a significant difference in the mean recovery times between the two medications."
   ]
  },
  {
   "cell_type": "code",
   "execution_count": 152,
   "id": "fbe30509",
   "metadata": {},
   "outputs": [],
   "source": [
    "#ANOVA(Analysis of variance) is a statistical formula used to compare variances across means of differnt groups.\n",
    "#Formula for MSE is given as \n",
    "#F=MST/MSE \n",
    "#f- anova coefficient\n",
    "#MST-Mean sum of squares due to treatment\n",
    "#MSE- Mean sum of squares due to error\n",
    "\n",
    "#We can calculate annova test using scipy\n"
   ]
  },
  {
   "cell_type": "code",
   "execution_count": 153,
   "id": "101c115d",
   "metadata": {},
   "outputs": [],
   "source": [
    "Medication_A=[10, 12, 14, 11, 13]\n",
    "Medication_B=[15, 17, 16, 14, 18]"
   ]
  },
  {
   "cell_type": "code",
   "execution_count": 154,
   "id": "1eea7d73",
   "metadata": {},
   "outputs": [],
   "source": [
    "import scipy\n",
    "result=scipy.stats.f_oneway(Medication_A,Medication_B)"
   ]
  },
  {
   "cell_type": "code",
   "execution_count": null,
   "id": "ec6c12df",
   "metadata": {},
   "outputs": [],
   "source": []
  },
  {
   "cell_type": "code",
   "execution_count": 155,
   "id": "a30612e4",
   "metadata": {},
   "outputs": [
    {
     "name": "stdout",
     "output_type": "stream",
     "text": [
      "F_onewayResult(statistic=16.0, pvalue=0.003949772803445326)\n"
     ]
    }
   ],
   "source": [
    "print(result)"
   ]
  },
  {
   "cell_type": "raw",
   "id": "874a0f81",
   "metadata": {},
   "source": [
    "The formula for df1 is the following: d f 1(between) = g − 1 where g is the amount of groups. The formula for df2 is the following: d f 2 (with in)= N − g where N is the sample size of all groups combined and g is the number of groups."
   ]
  },
  {
   "cell_type": "raw",
   "id": "b80788b1",
   "metadata": {},
   "source": [
    "1.here null hypothesis is significant difference between mean. alternate hypothesis is no difference.\n",
    "\n",
    "2.taking significance valkue as 0.05.\n",
    "\n",
    "3.calculating degree of freedom(dof between , within and total)\n",
    "\n",
    "       dof between=2-1=1    (number of variables-1)\n",
    "       dof within =10-2=8   (total number of elements-number of variables)\n",
    "       dof total=10-1=9   (total number of elements -1)\n",
    "       \n",
    "       \n",
    "4.from ftable where siginficance value is 0.05b the critical value is given as 5.31\n",
    "\n",
    "5.here test statistics greater than the critical value  we reject null hypothesis , and accept alternate hypothesis."
   ]
  },
  {
   "cell_type": "code",
   "execution_count": null,
   "id": "4454a76e",
   "metadata": {},
   "outputs": [],
   "source": []
  },
  {
   "cell_type": "markdown",
   "id": "3e0fd934",
   "metadata": {},
   "source": [
    "10. Scenario: A company wants to analyze customer feedback ratings on a scale of 1 to 10. The data collected is as follows: [8, 9, 7, 6, 8, 10, 9, 8, 7, 8] Calculate the 75th percentile of the feedback ratings."
   ]
  },
  {
   "cell_type": "code",
   "execution_count": 156,
   "id": "5dd9dd66",
   "metadata": {},
   "outputs": [],
   "source": [
    "#Percentile means nothing but number of elements below the certain percentage \n",
    "#we can calculte percentile value  and percentile  .\n",
    "#Numpy libray has a method np.percentile will use to calculate percentile ."
   ]
  },
  {
   "cell_type": "code",
   "execution_count": 160,
   "id": "7d3fa4ab",
   "metadata": {},
   "outputs": [],
   "source": [
    "arr= [8, 9, 7, 6, 8, 10, 9, 8, 7, 8]"
   ]
  },
  {
   "cell_type": "code",
   "execution_count": 161,
   "id": "de982454",
   "metadata": {},
   "outputs": [
    {
     "name": "stdout",
     "output_type": "stream",
     "text": [
      "The 75 percentile of given arr is:  8.75\n"
     ]
    }
   ],
   "source": [
    "import numpy as np\n",
    "result=np.percentile(arr,75)\n",
    "print(\"The 75 percentile of given arr is: \",result)"
   ]
  },
  {
   "cell_type": "code",
   "execution_count": null,
   "id": "2652ca89",
   "metadata": {},
   "outputs": [],
   "source": []
  },
  {
   "cell_type": "code",
   "execution_count": null,
   "id": "bfbaba49",
   "metadata": {},
   "outputs": [],
   "source": []
  },
  {
   "cell_type": "markdown",
   "id": "529fe2ba",
   "metadata": {},
   "source": [
    "11. Scenario: A quality control department wants to test the weight consistency of a product. The weights of a sample of products are as follows: [10.2, 9.8, 10.0, 10.5, 10.3, 10.1] Perform a hypothesis test to determine if the mean weight differs significantly from 10 grams"
   ]
  },
  {
   "cell_type": "code",
   "execution_count": 1,
   "id": "8e9afcaf",
   "metadata": {},
   "outputs": [],
   "source": [
    "#Given weights of sample products and mean value 10 need to perform a hypothesis test.\n",
    "#whethre the output of hypothesis is differ significantly from 10grams.\n",
    "#Here we can perform One-Sample t-test:\n",
    "   #The one-sample t-test compares the mean of a single sample to a known or hypothesized value.\n",
    "\n",
    "   #Formula:\n",
    "   #t = (x - μ) / (s / √n)\n",
    "    \n",
    "    \n",
    "      Where:\n",
    "   # t is the t-statistic\n",
    "   # x is the sample mean\n",
    "   # μ is the hypothesized population mean\n",
    "   # s is the sample standard deviation\n",
    "   # n is the sample size\n",
    "    \n"
   ]
  },
  {
   "cell_type": "code",
   "execution_count": 51,
   "id": "f023bf9f",
   "metadata": {},
   "outputs": [
    {
     "name": "stdout",
     "output_type": "stream",
     "text": [
      "TtestResult(statistic=97.31436042929494, pvalue=2.1723408582446446e-09, df=5)\n"
     ]
    }
   ],
   "source": [
    "import scipy\n",
    "result=scipy.stats.ttest_1samp(data,popmean=0.5)\n",
    "print(result)"
   ]
  },
  {
   "cell_type": "raw",
   "id": "48d2d6c6",
   "metadata": {},
   "source": [
    "1.taking alternate hypothsis as not mean weight differnce significantly from 10 grams and alternate hypothesis is mean weight does not significantly difference.\n",
    "\n",
    "\n",
    "2.let taking significance value as 0.05.\n",
    "\n",
    "3.The degrees of freedom for one sample t-trest is given as n-1 , here n is 6 , so degree of freedom is 5.\n",
    "\n",
    "\n",
    "\n",
    "4.Critical value we may get between 2.015...(calculate from t-tqable two tailed test)\n",
    "\n",
    "5.Here in test statistics the p-value is 2.17 , it is one tail test so we can takje half of the p- value , so p value we get is 1.08.\n",
    "\n",
    "6. when comparing critical value with test statistics , we can observe that test statistics doesnot fall in critical value so, we can rejct null hypothesis and accept alternate hypothesis.\n",
    "\n"
   ]
  },
  {
   "cell_type": "code",
   "execution_count": null,
   "id": "8d3c0617",
   "metadata": {},
   "outputs": [],
   "source": []
  },
  {
   "cell_type": "markdown",
   "id": "76c79153",
   "metadata": {},
   "source": [
    "12. Scenario: A company wants to analyze the click-through rates of two different website designs. The number of clicks for each design is as follows: Design A: [100, 120, 110, 90, 95] Design B: [80, 85, 90, 95, 100] Perform a chi-square test to determine if there is a significant difference in the click-through rates between the two designs."
   ]
  },
  {
   "cell_type": "code",
   "execution_count": 89,
   "id": "b740695e",
   "metadata": {},
   "outputs": [],
   "source": [
    "data=[[100, 120, 110, 90, 95],[80, 85, 90, 95, 100] ]\n",
    "\n"
   ]
  },
  {
   "cell_type": "code",
   "execution_count": 90,
   "id": "588257e4",
   "metadata": {},
   "outputs": [
    {
     "name": "stdout",
     "output_type": "stream",
     "text": [
      "Power_divergenceResult(statistic=array([2.22222222, 5.97560976, 2.        , 0.13513514, 0.12820513]), pvalue=array([0.13603713, 0.01450507, 0.15729921, 0.71316606, 0.72030033]))\n"
     ]
    }
   ],
   "source": [
    "import scipy\n",
    "result=scipy.stats.chisquare(data)\n",
    "print(result)"
   ]
  },
  {
   "cell_type": "raw",
   "id": "3aa5b2a4",
   "metadata": {},
   "source": [
    "1.here null hypothesis is difference in the click through rate and alternate hypothesis is no difference in click through rates.\n",
    "2.Take siginificance value as 0.05.\n",
    "\n",
    "3.Calculating degree of freedom in chisquare is given as \n",
    "       degree of freedom=(no.of rows-1)*(no.of columns-1)\n",
    "       \n",
    "       here number of rows is 5 and number of columns is 2\n",
    "       \n",
    "       so, degree of freedom is given as dof=4\n",
    "       \n",
    "4.From chisqure table the critical value for dof =4 at significance =0.05 is 9.488\n",
    "       \n",
    "5. chisquare=(fe-fr)/n                               'n'  sample size , fe 'row'  and fe column \n",
    "\n",
    "     where fe is expected and fr is 'observed\"  , This formula help to calculate chisquare value mathematicallyt\n",
    "       \n",
    "       \n",
    "6.test sytatistic less than critical value so we can accept null hypyothesis and reject null hypothesis."
   ]
  },
  {
   "cell_type": "code",
   "execution_count": null,
   "id": "725938a3",
   "metadata": {},
   "outputs": [],
   "source": []
  },
  {
   "cell_type": "markdown",
   "id": "f4d451ab",
   "metadata": {},
   "source": [
    "13. Scenario: A survey is conducted to measure customer satisfaction with a product on a scale of 1 to 10. The data collected is as follows: [7, 9, 6, 8, 10, 7, 8, 9, 7, 8] Calculate the 95% confidence interval for the population mean satisfaction score."
   ]
  },
  {
   "cell_type": "code",
   "execution_count": 62,
   "id": "6b78152f",
   "metadata": {},
   "outputs": [],
   "source": [
    "#Confidence interval is nothing but a a range where the population mean will occur.\n",
    "#confidence interval formula is given as \n",
    "# CI=x(+/-)t*(s/√n)\n",
    "\n",
    "#where'\n",
    "#x: sample mean\n",
    "#t: t-value that corresponds to the confidence level\n",
    "#s: sample standard deviation\n",
    "#n: sample size"
   ]
  },
  {
   "cell_type": "code",
   "execution_count": 60,
   "id": "7fcf4cfa",
   "metadata": {},
   "outputs": [],
   "source": [
    "data=[7, 9, 6, 8, 10, 7, 8, 9, 7, 8]"
   ]
  },
  {
   "cell_type": "code",
   "execution_count": 61,
   "id": "b9bd2a37",
   "metadata": {},
   "outputs": [
    {
     "name": "stdout",
     "output_type": "stream",
     "text": [
      "(7.043561120599888, 8.756438879400113)\n"
     ]
    },
    {
     "name": "stderr",
     "output_type": "stream",
     "text": [
      "C:\\Users\\WONDER\\AppData\\Local\\Temp\\ipykernel_10352\\729672895.py:3: DeprecationWarning: Use of keyword argument 'alpha' for method 'interval' is deprecated and wil be removed in SciPy 1.11.0. Use first positional argument or keyword argument 'confidence' instead.\n",
      "  result=scipy.stats.t.interval(alpha=0.95,df=len(data)-1,loc=np.mean(data),scale=scipy.stats.sem(data))\n"
     ]
    }
   ],
   "source": [
    "import numpy as np\n",
    "import scipy\n",
    "result=scipy.stats.t.interval(alpha=0.95,df=len(data)-1,loc=np.mean(data),scale=scipy.stats.sem(data))\n",
    "print(result)"
   ]
  },
  {
   "cell_type": "code",
   "execution_count": null,
   "id": "cb0ecd09",
   "metadata": {},
   "outputs": [],
   "source": []
  },
  {
   "cell_type": "code",
   "execution_count": null,
   "id": "5831e1bb",
   "metadata": {},
   "outputs": [],
   "source": []
  },
  {
   "cell_type": "code",
   "execution_count": null,
   "id": "46b26c61",
   "metadata": {},
   "outputs": [],
   "source": []
  },
  {
   "cell_type": "markdown",
   "id": "defcee92",
   "metadata": {},
   "source": [
    "14. Scenario: A company wants to analyze the effect of temperature on product performance. The data collected is as follows: Temperature (in degrees Celsius): [20, 22, 23, 19, 21] Performance (on a scale of 1 to 10): [8, 7, 9, 6, 8] Perform a simple linear regression to predict performance based on temperature."
   ]
  },
  {
   "cell_type": "code",
   "execution_count": 2,
   "id": "4fbb8eb9",
   "metadata": {},
   "outputs": [],
   "source": [
    "import numpy as np\n",
    "import matplotlib.pyplot as plt\n",
    "\n",
    "def estimate_coeef(x,y):\n",
    "    n=np.size(x)\n",
    "    \n",
    "    m_x=np.mean(x)\n",
    "    m_y=np.mean(y)\n",
    "    \n",
    "    ss_xy=np.sum(y*x)-n*m_y*m_x\n",
    "    ss_xx=np.sum(x*x)-n*m_x*m_x\n",
    "    \n",
    "    b_1=ss_xy /ss_xx\n",
    "    b_0=m_y - b_1*m_x\n",
    "    \n",
    "    return (b_0,b_1)"
   ]
  },
  {
   "cell_type": "code",
   "execution_count": 3,
   "id": "7b58867f",
   "metadata": {},
   "outputs": [],
   "source": [
    "x=[20, 22, 23, 19, 21]\n",
    "y=[8, 7, 9, 6, 8]"
   ]
  },
  {
   "cell_type": "code",
   "execution_count": 4,
   "id": "6a2c0fde",
   "metadata": {},
   "outputs": [],
   "source": [
    "x=np.array(x)\n",
    "y=np.array(y)"
   ]
  },
  {
   "cell_type": "code",
   "execution_count": 5,
   "id": "cccc6a9d",
   "metadata": {},
   "outputs": [
    {
     "data": {
      "text/plain": [
       "(-2.9000000000000004, 0.5)"
      ]
     },
     "execution_count": 5,
     "metadata": {},
     "output_type": "execute_result"
    }
   ],
   "source": [
    "estimate_coeef(x,y)"
   ]
  },
  {
   "cell_type": "code",
   "execution_count": 6,
   "id": "332bbd56",
   "metadata": {},
   "outputs": [],
   "source": [
    "def plot_regression_line(x, y, b):\n",
    "    \n",
    "    plt.scatter(x, y, color = \"m\",\n",
    "               marker = \"o\", s = 30)\n",
    "    y_pred = b[0] + b[1]*x\n",
    "    plt.plot(x, y_pred, color = \"g\")\n",
    "    plt.xlabel('x')\n",
    "    plt.ylabel('y')\n",
    " \n",
    "    \n",
    "    plt.show()"
   ]
  },
  {
   "cell_type": "code",
   "execution_count": null,
   "id": "76de4cb0",
   "metadata": {},
   "outputs": [],
   "source": []
  },
  {
   "cell_type": "code",
   "execution_count": 8,
   "id": "469d4e8f",
   "metadata": {},
   "outputs": [
    {
     "data": {
      "image/png": "[encoded data removed]",
      "text/plain": [
       "<Figure size 640x480 with 1 Axes>"
      ]
     },
     "metadata": {},
     "output_type": "display_data"
    }
   ],
   "source": [
    "b=estimate_coeef(x,y)\n",
    "plot_regression_line(x, y, b)"
   ]
  },
  {
   "cell_type": "code",
   "execution_count": null,
   "id": "178d443b",
   "metadata": {},
   "outputs": [],
   "source": []
  },
  {
   "cell_type": "code",
   "execution_count": null,
   "id": "a42be8be",
   "metadata": {},
   "outputs": [],
   "source": []
  },
  {
   "cell_type": "code",
   "execution_count": null,
   "id": "efb22c66",
   "metadata": {},
   "outputs": [],
   "source": []
  },
  {
   "cell_type": "markdown",
   "id": "67702ff5",
   "metadata": {},
   "source": [
    "15. Scenario: A study is conducted to compare the preferences of two groups of participants. The preferences are measured on a Likert scale from 1 to 5. The data collected is as follows: Group A: [4, 3, 5, 2, 4]\n",
    "Group B: [3, 2, 4, 3, 3] Perform a Mann-Whitney U test to determine if there is a significant difference in the median preferences between the two groups."
   ]
  },
  {
   "cell_type": "code",
   "execution_count": 40,
   "id": "baebe9a2",
   "metadata": {},
   "outputs": [],
   "source": [
    "#Mann-Whitney U is used to test whether two samples are likely to derive from the same population\n",
    "#It si same as Kruskal -wallis test.\n",
    "#It is also a Non parametric test\n"
   ]
  },
  {
   "cell_type": "code",
   "execution_count": 41,
   "id": "c062cdc2",
   "metadata": {},
   "outputs": [],
   "source": [
    "A=[4, 3, 5, 2, 4]\n",
    "B=[3, 2, 4, 3, 3] "
   ]
  },
  {
   "cell_type": "code",
   "execution_count": 45,
   "id": "901ae208",
   "metadata": {},
   "outputs": [
    {
     "name": "stdout",
     "output_type": "stream",
     "text": [
      "MannwhitneyuResult(statistic=17.0, pvalue=0.380836480306712)\n"
     ]
    }
   ],
   "source": [
    "import scipy\n",
    "result=scipy.stats.mannwhitneyu(A,B)\n",
    "print(result)"
   ]
  },
  {
   "cell_type": "raw",
   "id": "fdd554b4",
   "metadata": {},
   "source": [
    "1.take Null hypothesis as significant differnce between two groups and alternate hypothesis is no significant diffetrence .\n",
    "2.State significannce value as 0.05\n",
    "\n",
    "3.giving rank to the elements for every column\n",
    "4.after giving ranks calculating u1 and u2        \n",
    "    where u1 =[n1*n2+n1(n1+1)/2]-R1\n",
    "          u2 =[n1*n2+n2(n2+1)/2]-R2\n",
    "          \n",
    "          \n",
    "      where:\n",
    "        n1: number of samples in sample 1\n",
    "        n2: number of samples in sample 2\n",
    "        R1: Rank sum of sample 1\n",
    "        R2: Rank sum of sample 2\n",
    "        \n",
    "        \n",
    "     Example:\n",
    "     \n",
    "     batch1   rank1   batch2    rank2\n",
    "       4       3        3        3\n",
    "       3       2        2        1\n",
    "       5       5        4        5\n",
    "       2       1        3        2\n",
    "       4       4        3        4\n",
    "       \n",
    "       \n",
    "       \n",
    "       From above table we can say that there are repeating of elements so wee need to re-raqnk them\n",
    "       \n",
    "       \n",
    "       batch1  rank1   batch2    rank2\n",
    "       4       3.5       3        3\n",
    "       3       2         2        1\n",
    "       5       5         4        5\n",
    "       2       1         3        3             important :#sum of rank of reapating elements/number of elements\n",
    "       4       3.5       3        3\n",
    "       \n",
    "       \n",
    "       n1=5, n2=5, rank1=15 rank2=15\n",
    "       \n",
    "      Then calculating above U1 and U2 we may get -5 and -5 values ,\n",
    "      Taking minimum of taem is    u0=-5\n",
    "      \n",
    "      \n",
    "   from U-statistics n1=5 and n2=5 we at significance of 0.05  is U=2\n",
    "   \n",
    "3. we get test static  -5 < 2 i.e test U0 < U, Accept the null hypothesis and rejcet alternate hypothesis."
   ]
  },
  {
   "cell_type": "code",
   "execution_count": null,
   "id": "83bd5ab8",
   "metadata": {},
   "outputs": [],
   "source": []
  },
  {
   "cell_type": "code",
   "execution_count": null,
   "id": "a8f523e8",
   "metadata": {},
   "outputs": [],
   "source": []
  },
  {
   "cell_type": "code",
   "execution_count": null,
   "id": "93d0d8b0",
   "metadata": {},
   "outputs": [],
   "source": []
  },
  {
   "cell_type": "markdown",
   "id": "3c72dcb7",
   "metadata": {},
   "source": [
    "16. Scenario: A company wants to analyze the distribution of customer ages. The data collected is as follows: [25, 30, 35, 40, 45, 50, 55, 60, 65, 70] Calculate the interquartile range (IQR) of the ages."
   ]
  },
  {
   "cell_type": "code",
   "execution_count": 35,
   "id": "64190a1b",
   "metadata": {},
   "outputs": [],
   "source": [
    "#IQR means Inter Quartile Range.\n",
    "#It is difference betweem 75th percentile and 25th percentile of data.\n",
    "#Iqr is used for detecting outlinre , It is one of FiVe number series calculation"
   ]
  },
  {
   "cell_type": "code",
   "execution_count": 36,
   "id": "a5d1f495",
   "metadata": {},
   "outputs": [],
   "source": [
    "data= [25, 30, 35, 40, 45, 50, 55, 60, 65, 70]"
   ]
  },
  {
   "cell_type": "code",
   "execution_count": 39,
   "id": "774b5b8a",
   "metadata": {},
   "outputs": [
    {
     "name": "stdout",
     "output_type": "stream",
     "text": [
      "The inter Quartile range for given data is :  22.5\n",
      "Q3 value: 58.75\n",
      "Q3 value: 36.25\n"
     ]
    }
   ],
   "source": [
    "import numpy as np\n",
    "Q3=np.percentile(data,75)\n",
    "Q1=np.percentile(data,25)\n",
    "IQR=Q3-Q1\n",
    "print(\"The inter Quartile range for given data is : \",IQR)\n",
    "print('Q3 value:',Q3)\n",
    "print('Q3 value:',Q1)"
   ]
  },
  {
   "cell_type": "code",
   "execution_count": null,
   "id": "cb83293a",
   "metadata": {},
   "outputs": [],
   "source": []
  },
  {
   "cell_type": "code",
   "execution_count": null,
   "id": "b9ebe23a",
   "metadata": {},
   "outputs": [],
   "source": []
  },
  {
   "cell_type": "code",
   "execution_count": null,
   "id": "57f8dfad",
   "metadata": {},
   "outputs": [],
   "source": []
  },
  {
   "cell_type": "markdown",
   "id": "71afd4f8",
   "metadata": {},
   "source": [
    "17. Scenario: A study is conducted to compare the performance of three different machine learning algorithms. The accuracy scores for each algorithm are as follows: Algorithm A: [0.85, 0.80, 0.82, 0.87, 0.83] Algorithm B: [0.78, 0.82, 0.84, 0.80, 0.79] Algorithm C: [0.90, 0.88, 0.89, 0.86, 0.87] Perform a Kruskal-Wallis test to determine if there is a significant difference in the median accuracy scores between the algorithms."
   ]
  },
  {
   "cell_type": "code",
   "execution_count": null,
   "id": "41353a2b",
   "metadata": {},
   "outputs": [],
   "source": [
    "#The Kruskal–Wallis test is a nonparametric approach to the one-way ANOVA. \n",
    "#The procedure is used to compare three or more groups on a dependent variable that is measured on at least an ordinal level."
   ]
  },
  {
   "cell_type": "code",
   "execution_count": 33,
   "id": "1bfb0625",
   "metadata": {},
   "outputs": [],
   "source": [
    "A=[0.85, 0.80, 0.82, 0.87, 0.83]\n",
    "B=[0.78, 0.82, 0.84, 0.80, 0.79]\n",
    "C=[0.90, 0.88, 0.89, 0.86, 0.87] "
   ]
  },
  {
   "cell_type": "code",
   "execution_count": 34,
   "id": "edff8017",
   "metadata": {},
   "outputs": [
    {
     "name": "stdout",
     "output_type": "stream",
     "text": [
      "KruskalResult(statistic=9.696947935368053, pvalue=0.007840333026249539)\n"
     ]
    }
   ],
   "source": [
    "import scipy\n",
    "result=scipy.stats.kruskal(A,B,C)\n",
    "print(result)"
   ]
  },
  {
   "cell_type": "raw",
   "id": "aef1a85c",
   "metadata": {},
   "source": [
    "1. H- statistics of Kruskal wallis test is given as \n",
    "     \n",
    "     H=[12/n(n+1)*summation(Ri**2/ni) -3(n+1)\n",
    "     \n",
    "     \n",
    "     where \n",
    "          ni = number of items in sample i\n",
    "          Ri = sum of ranks of all items in sample i\n",
    "          K = total number of samples\n",
    "          n = n1 + n2 + ...... +nK ; Total number of observations in all samples.\n",
    "\n",
    "\n",
    "\n",
    "2.here nul;l hypothesis is differences between the median accuracy and alternate hypothesis is no difference in median accuracy.\n",
    "3.Sort the data for all groups and assign rank to them\n",
    "                                                                 \n",
    "   ele     rank                                                 \n",
    "   0.78    1                                                        \n",
    "   0.79    2\n",
    "   0.80    3\n",
    "   0.80    3\n",
    "   0.82    4                           #here 0.80 is repeatedf two times so giving same ranking , like wise 0.82 and 0.87 also\n",
    "   0.82    4\n",
    "   0.83    5\n",
    "   0.84    6\n",
    "   0.85    7\n",
    "   0.86    8\n",
    "   0.87    9\n",
    "   0.87    9\n",
    "   0.88    10\n",
    "   0.89    11\n",
    "   0.90    12\n",
    "   \n",
    "   \n",
    "  A=[0.85, 0.80, 0.82, 0.87, 0.83]\n",
    "B=[0.78, 0.82, 0.84, 0.80, 0.79]\n",
    "C=[0.90, 0.88, 0.89, 0.86, 0.87] \n",
    " 4.    A   rank_a    B     rank_b      C    rank_c\n",
    "      0.85   7       0.78    1        0.90    12\n",
    "      0.80   3       0.82    4        0.88    10\n",
    "      0.82   4       0.84    6        0.89    11\n",
    "      0.87   9       0.80    3        0.86    8\n",
    "      0.83   5       0.79    2        0.87    9\n",
    "         \n",
    "         tot 28              16               50\n",
    "         \n",
    "         \n",
    "  5.Calculate H-statistics using above formula    H=[12/n(n+1)*summation(Ri**2/ni) -3(n+1)\n",
    "        get value as 0.05 156.8 51.2  500   48\n",
    "        H statistics =12.6\n",
    "        \n",
    "        \n",
    "        \n",
    "6. Degree of freedom is \n",
    "              k-1  =3-1=2   and significance value is 0.05 (significance value not given so take 0.05)\n",
    "              \n",
    "              in chisquare table finding critical value we may get\n",
    "               critical value is 5.991\n",
    "               \n",
    "7. Compare critical value and H-statistics H-statistics > critical value\n",
    "      \n",
    "        nReject null hypothesis and accept nalternate hypothesis."
   ]
  },
  {
   "cell_type": "code",
   "execution_count": null,
   "id": "93c2ac4e",
   "metadata": {},
   "outputs": [],
   "source": []
  },
  {
   "cell_type": "markdown",
   "id": "6c0d7968",
   "metadata": {},
   "source": [
    "18. Scenario: A company wants to analyze the effect of price on sales. The data collected is as follows: Price (in dollars): [10, 15, 12, 8, 14] Sales: [100, 80, 90, 110, 95] Perform a simple linear regression to predict sales based on price."
   ]
  },
  {
   "cell_type": "code",
   "execution_count": 31,
   "id": "fbcb1998",
   "metadata": {},
   "outputs": [],
   "source": [
    "Price=[[10, 15, 12, 8, 14]]\n",
    "Sales=[[100, 80, 90, 110, 95]]"
   ]
  },
  {
   "cell_type": "code",
   "execution_count": 32,
   "id": "43d10199",
   "metadata": {},
   "outputs": [
    {
     "name": "stdout",
     "output_type": "stream",
     "text": [
      "[[0. 0. 0. 0. 0.]\n",
      " [0. 0. 0. 0. 0.]\n",
      " [0. 0. 0. 0. 0.]\n",
      " [0. 0. 0. 0. 0.]\n",
      " [0. 0. 0. 0. 0.]]\n"
     ]
    }
   ],
   "source": [
    "from sklearn.linear_model import LinearRegression\n",
    "import numpy as np\n",
    "\n",
    "\n",
    "\n",
    "reg = LinearRegression()\n",
    "reg.fit(Price,Sales)\n",
    "\n",
    "print(reg.coef_)"
   ]
  },
  {
   "cell_type": "code",
   "execution_count": null,
   "id": "b6adb676",
   "metadata": {},
   "outputs": [],
   "source": []
  },
  {
   "cell_type": "code",
   "execution_count": null,
   "id": "cfdff4f0",
   "metadata": {},
   "outputs": [],
   "source": []
  },
  {
   "cell_type": "markdown",
   "id": "ba3a8db8",
   "metadata": {},
   "source": [
    "19. Scenario: A survey is conducted to measure the satisfaction levels of customers with a new product. The data collected is as follows: [7, 8, 9, 6, 8, 7, 9, 7, 8, 7] Calculate the standard error of the mean satisfaction score."
   ]
  },
  {
   "cell_type": "code",
   "execution_count": null,
   "id": "c520ef92",
   "metadata": {},
   "outputs": [],
   "source": [
    "#Standard error is nothing but standard deviation with respect central tendency measures like mean,median and mode.\n",
    "#standrad error of the mean statisfaction score formula is given as \n",
    "#SE = σ / √n\n",
    "#σ is population std \n",
    "#sqrt(n) is square root of sample size"
   ]
  },
  {
   "cell_type": "code",
   "execution_count": 18,
   "id": "bcbfc4e1",
   "metadata": {},
   "outputs": [],
   "source": [
    "data= [7, 8, 9, 6, 8, 7, 9, 7, 8, 7]"
   ]
  },
  {
   "cell_type": "code",
   "execution_count": 19,
   "id": "f996f72e",
   "metadata": {},
   "outputs": [
    {
     "name": "stdout",
     "output_type": "stream",
     "text": [
      "0.30550504633038933\n"
     ]
    }
   ],
   "source": [
    "import scipy\n",
    "result=scipy.stats.sem(data)\n",
    "print(result)"
   ]
  },
  {
   "cell_type": "code",
   "execution_count": 22,
   "id": "d4899d77",
   "metadata": {},
   "outputs": [],
   "source": [
    "import numpy as np \n",
    "import math\n",
    "def std_mean(arr):\n",
    "    n=len(arr)\n",
    "    std=np.std(arr)\n",
    "    return std/math.sqrt(n)\n",
    "    "
   ]
  },
  {
   "cell_type": "code",
   "execution_count": 23,
   "id": "6051c2fb",
   "metadata": {},
   "outputs": [
    {
     "data": {
      "text/plain": [
       "0.28982753492378877"
      ]
     },
     "execution_count": 23,
     "metadata": {},
     "output_type": "execute_result"
    }
   ],
   "source": [
    "std_mean(data)"
   ]
  },
  {
   "cell_type": "code",
   "execution_count": null,
   "id": "5a5ce874",
   "metadata": {},
   "outputs": [],
   "source": []
  },
  {
   "cell_type": "code",
   "execution_count": null,
   "id": "2ea38fb4",
   "metadata": {},
   "outputs": [],
   "source": []
  },
  {
   "cell_type": "code",
   "execution_count": null,
   "id": "e244283c",
   "metadata": {},
   "outputs": [],
   "source": []
  },
  {
   "cell_type": "code",
   "execution_count": null,
   "id": "73b67627",
   "metadata": {},
   "outputs": [],
   "source": []
  },
  {
   "cell_type": "markdown",
   "id": "f3d43a9b",
   "metadata": {},
   "source": [
    "20. Scenario: A company wants to analyze the relationship between advertising expenditure and sales. The data collected is as follows: Advertising Expenditure (in thousands): [10, 15, 12, 8, 14] Sales (in thousands): [25, 30, 28, 20, 26] Perform a multiple regression analysis to predict sales based on advertising expenditure."
   ]
  },
  {
   "cell_type": "code",
   "execution_count": 10,
   "id": "3386d765",
   "metadata": {},
   "outputs": [],
   "source": [
    "x=[[10, 15, 12, 8, 14]]\n",
    "y=[[25, 30, 28, 20, 26]]"
   ]
  },
  {
   "cell_type": "code",
   "execution_count": 11,
   "id": "b83b5591",
   "metadata": {},
   "outputs": [
    {
     "name": "stdout",
     "output_type": "stream",
     "text": [
      "[[0. 0. 0. 0. 0.]\n",
      " [0. 0. 0. 0. 0.]\n",
      " [0. 0. 0. 0. 0.]\n",
      " [0. 0. 0. 0. 0.]\n",
      " [0. 0. 0. 0. 0.]]\n"
     ]
    }
   ],
   "source": [
    "from sklearn.linear_model import LinearRegression\n",
    "import numpy as np\n",
    "\n",
    "\n",
    "\n",
    "reg = LinearRegression()\n",
    "reg.fit(x,y)\n",
    "\n",
    "print(reg.coef_)"
   ]
  },
  {
   "cell_type": "code",
   "execution_count": null,
   "id": "ed62948d",
   "metadata": {},
   "outputs": [],
   "source": []
  }
 ],
 "metadata": {
  "kernelspec": {
   "display_name": "Python 3 (ipykernel)",
   "language": "python",
   "name": "python3"
  },
  "language_info": {
   "codemirror_mode": {
    "name": "ipython",
    "version": 3
   },
   "file_extension": ".py",
   "mimetype": "text/x-python",
   "name": "python",
   "nbconvert_exporter": "python",
   "pygments_lexer": "ipython3",
   "version": "3.10.9"
  }
 },
 "nbformat": 4,
 "nbformat_minor": 5
}
