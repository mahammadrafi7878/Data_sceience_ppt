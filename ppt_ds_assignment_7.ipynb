{
 "cells": [
  {
   "cell_type": "markdown",
   "id": "2cba4b7a",
   "metadata": {},
   "source": [
    "Here Giving the githeb repo links of HLD and LLd of Phishing doamin internship project:\n",
    "    HLD link:  https://github.com/mahammadrafi7878/hld-lld/blob/main/phishing%20domain%20detection%20high%20level%20design.docx\n",
    "    LLd link:  https://github.com/mahammadrafi7878/hld-lld/blob/main/phishing%20domain%20detectionb%20low%20level%20design.docx"
   ]
  },
  {
   "cell_type": "code",
   "execution_count": null,
   "id": "baf8be21",
   "metadata": {},
   "outputs": [],
   "source": []
  }
 ],
 "metadata": {
  "kernelspec": {
   "display_name": "Python 3 (ipykernel)",
   "language": "python",
   "name": "python3"
  },
  "language_info": {
   "codemirror_mode": {
    "name": "ipython",
    "version": 3
   },
   "file_extension": ".py",
   "mimetype": "text/x-python",
   "name": "python",
   "nbconvert_exporter": "python",
   "pygments_lexer": "ipython3",
   "version": "3.10.9"
  }
 },
 "nbformat": 4,
 "nbformat_minor": 5
}
