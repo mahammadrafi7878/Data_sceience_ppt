{
 "cells": [
  {
   "cell_type": "markdown",
   "id": "174a7bd5",
   "metadata": {},
   "source": [
    "1. Write a Python program to reverse a string without using any built-in string reversal functions"
   ]
  },
  {
   "cell_type": "code",
   "execution_count": 7,
   "id": "692e93eb",
   "metadata": {},
   "outputs": [
    {
     "name": "stdout",
     "output_type": "stream",
     "text": [
      "Before reversing a string:  Reversing a string\n",
      "After reversing a string: gnirts a gnisreveR\n"
     ]
    }
   ],
   "source": [
    "s=\"Reversing a string\"\n",
    "print('Before reversing a string: ',s)\n",
    "rev_s=s[::-1]\n",
    "print('After reversing a string:',rev_s)\n"
   ]
  },
  {
   "cell_type": "code",
   "execution_count": null,
   "id": "fb7bedc6",
   "metadata": {},
   "outputs": [],
   "source": []
  },
  {
   "cell_type": "markdown",
   "id": "0ccfc195",
   "metadata": {},
   "source": [
    "2. Implement a function to check if a given string is a palindrome."
   ]
  },
  {
   "cell_type": "code",
   "execution_count": 8,
   "id": "ff2f7d1b",
   "metadata": {},
   "outputs": [],
   "source": [
    "def ispalindrome(string):\n",
    "    i=0\n",
    "    j=len(string)-1\n",
    "    \n",
    "    while i<j:\n",
    "        if string[i] != string[j]:\n",
    "            return False\n",
    "        i+=1\n",
    "        j-=1\n",
    "    return True"
   ]
  },
  {
   "cell_type": "code",
   "execution_count": 9,
   "id": "e28dd347",
   "metadata": {},
   "outputs": [
    {
     "data": {
      "text/plain": [
       "True"
      ]
     },
     "execution_count": 9,
     "metadata": {},
     "output_type": "execute_result"
    }
   ],
   "source": [
    "s=\"abccba\"\n",
    "ispalindrome(s)"
   ]
  },
  {
   "cell_type": "code",
   "execution_count": null,
   "id": "d2df10c7",
   "metadata": {},
   "outputs": [],
   "source": []
  },
  {
   "cell_type": "markdown",
   "id": "7bffbba2",
   "metadata": {},
   "source": [
    "3. Write a program to find the largest element in a given list"
   ]
  },
  {
   "cell_type": "code",
   "execution_count": 10,
   "id": "1e5ee844",
   "metadata": {},
   "outputs": [],
   "source": [
    "def largest(n):\n",
    "    return max(n)    #using max function"
   ]
  },
  {
   "cell_type": "code",
   "execution_count": 11,
   "id": "e7203a93",
   "metadata": {},
   "outputs": [
    {
     "data": {
      "text/plain": [
       "76"
      ]
     },
     "execution_count": 11,
     "metadata": {},
     "output_type": "execute_result"
    }
   ],
   "source": [
    "n=[2,3,4,12,34,54,34,76,67,56,8]\n",
    "largest(n)"
   ]
  },
  {
   "cell_type": "code",
   "execution_count": 12,
   "id": "b1d04891",
   "metadata": {},
   "outputs": [],
   "source": [
    "def large_value(l):\n",
    "    maxima=l[0]\n",
    "    \n",
    "    for i in l:\n",
    "        if i>maxima:\n",
    "            maxima=i\n",
    "    return maxima             #Iterating thorugh elements"
   ]
  },
  {
   "cell_type": "code",
   "execution_count": 13,
   "id": "c4c14315",
   "metadata": {},
   "outputs": [
    {
     "data": {
      "text/plain": [
       "76"
      ]
     },
     "execution_count": 13,
     "metadata": {},
     "output_type": "execute_result"
    }
   ],
   "source": [
    "large_value(n)"
   ]
  },
  {
   "cell_type": "code",
   "execution_count": null,
   "id": "50d5511b",
   "metadata": {},
   "outputs": [],
   "source": []
  },
  {
   "cell_type": "markdown",
   "id": "c8bd7350",
   "metadata": {},
   "source": [
    "4. Implement a function to count the occurrence of each element in a list"
   ]
  },
  {
   "cell_type": "code",
   "execution_count": 14,
   "id": "13cf389c",
   "metadata": {},
   "outputs": [],
   "source": [
    "from collections import Counter          #using inbuilt function\n",
    "\n",
    "def occurance_ele(l):\n",
    "    count=Counter(l)\n",
    "    return count"
   ]
  },
  {
   "cell_type": "code",
   "execution_count": 15,
   "id": "3f69aa7e",
   "metadata": {},
   "outputs": [
    {
     "data": {
      "text/plain": [
       "Counter({1: 2, 2: 2, 3: 3, 4: 2})"
      ]
     },
     "execution_count": 15,
     "metadata": {},
     "output_type": "execute_result"
    }
   ],
   "source": [
    "l1=[1,2,3,2,4,3,1,3,4]\n",
    "occurance_ele(l1)"
   ]
  },
  {
   "cell_type": "code",
   "execution_count": 16,
   "id": "73180c95",
   "metadata": {},
   "outputs": [],
   "source": [
    "def frequency_ele(l):                            #Using hash map\n",
    "    hash_map={}\n",
    "    for i in range(len(l)):\n",
    "        c=l[i]\n",
    "        hash_map[c]=hash_map.get(c,0)+1\n",
    "        \n",
    "    return hash_map"
   ]
  },
  {
   "cell_type": "code",
   "execution_count": 17,
   "id": "cef89c20",
   "metadata": {},
   "outputs": [
    {
     "data": {
      "text/plain": [
       "{1: 2, 2: 2, 3: 3, 4: 2}"
      ]
     },
     "execution_count": 17,
     "metadata": {},
     "output_type": "execute_result"
    }
   ],
   "source": [
    "frequency_ele(l1)"
   ]
  },
  {
   "cell_type": "code",
   "execution_count": null,
   "id": "0e223ecb",
   "metadata": {},
   "outputs": [],
   "source": []
  },
  {
   "cell_type": "markdown",
   "id": "2c737fc9",
   "metadata": {},
   "source": [
    "5. Write a Python program to find the second largest number in a list."
   ]
  },
  {
   "cell_type": "code",
   "execution_count": 18,
   "id": "40767925",
   "metadata": {},
   "outputs": [],
   "source": [
    "def second_largest(l):         #Using Sorting\n",
    "    l2=list(set(l))\n",
    "    l2.sort()\n",
    "    return l2[-2]"
   ]
  },
  {
   "cell_type": "code",
   "execution_count": 19,
   "id": "1040f1b8",
   "metadata": {},
   "outputs": [
    {
     "data": {
      "text/plain": [
       "67"
      ]
     },
     "execution_count": 19,
     "metadata": {},
     "output_type": "execute_result"
    }
   ],
   "source": [
    "n=[2,3,4,12,34,54,34,76,67,56,8]\n",
    "second_largest(n)"
   ]
  },
  {
   "cell_type": "code",
   "execution_count": 20,
   "id": "d20069f0",
   "metadata": {},
   "outputs": [],
   "source": [
    "def find_second_maxima(l):\n",
    "    maximum=max(l[0],l[1])\n",
    "    second_maxima=min(l[0],l[1])\n",
    "                                                       #Iterating through ele\n",
    "    for i in range(2, len(l)):\n",
    "        if l[i]>maximum:\n",
    "            second_maxima=maximum\n",
    "            maximum=l[i]\n",
    "            \n",
    "            \n",
    "        elif l[i]>second_maxima and maximum != l[i]:\n",
    "            second_maxima=l[i]\n",
    "            \n",
    "        elif second_maxima==maximum and second_maxima!=l[i]:\n",
    "            second_maxima=l[i]\n",
    "            \n",
    "    return second_maxima"
   ]
  },
  {
   "cell_type": "code",
   "execution_count": 21,
   "id": "fa1430de",
   "metadata": {},
   "outputs": [
    {
     "data": {
      "text/plain": [
       "67"
      ]
     },
     "execution_count": 21,
     "metadata": {},
     "output_type": "execute_result"
    }
   ],
   "source": [
    "find_second_maxima(n)"
   ]
  },
  {
   "cell_type": "code",
   "execution_count": 22,
   "id": "30491972",
   "metadata": {},
   "outputs": [],
   "source": [
    "def second(l):                                #Using enumerate function\n",
    "    m=max(l)\n",
    "    x=[a for i,a in enumerate(l) if a<m]\n",
    "    return max(x)\n"
   ]
  },
  {
   "cell_type": "code",
   "execution_count": null,
   "id": "330536ba",
   "metadata": {},
   "outputs": [],
   "source": []
  },
  {
   "cell_type": "code",
   "execution_count": null,
   "id": "ffd4de6c",
   "metadata": {},
   "outputs": [],
   "source": []
  },
  {
   "cell_type": "markdown",
   "id": "cd040988",
   "metadata": {},
   "source": [
    "6. Implement a function to remove duplicate elements from a list"
   ]
  },
  {
   "cell_type": "code",
   "execution_count": 23,
   "id": "fe8b9418",
   "metadata": {},
   "outputs": [],
   "source": [
    "def remove_duplicates(l):          #Using Inbilt function\n",
    "    return list(set(l))"
   ]
  },
  {
   "cell_type": "code",
   "execution_count": 24,
   "id": "6c2d28f8",
   "metadata": {},
   "outputs": [
    {
     "data": {
      "text/plain": [
       "[1, 2, 3, 2, 4, 3, 1, 3, 4]"
      ]
     },
     "execution_count": 24,
     "metadata": {},
     "output_type": "execute_result"
    }
   ],
   "source": [
    "l1"
   ]
  },
  {
   "cell_type": "code",
   "execution_count": 25,
   "id": "f637851c",
   "metadata": {},
   "outputs": [
    {
     "data": {
      "text/plain": [
       "[1, 2, 3, 4]"
      ]
     },
     "execution_count": 25,
     "metadata": {},
     "output_type": "execute_result"
    }
   ],
   "source": [
    "remove_duplicates(l1)"
   ]
  },
  {
   "cell_type": "code",
   "execution_count": 26,
   "id": "bbd2a76e",
   "metadata": {},
   "outputs": [],
   "source": [
    "def duplicates(l):\n",
    "    seen=[]\n",
    "    for i in l:\n",
    "        if i not in seen:\n",
    "            seen.append(i)\n",
    "    return seen"
   ]
  },
  {
   "cell_type": "code",
   "execution_count": 27,
   "id": "cffadc10",
   "metadata": {},
   "outputs": [
    {
     "data": {
      "text/plain": [
       "[1, 2, 3, 4]"
      ]
     },
     "execution_count": 27,
     "metadata": {},
     "output_type": "execute_result"
    }
   ],
   "source": [
    "duplicates(l1)"
   ]
  },
  {
   "cell_type": "code",
   "execution_count": null,
   "id": "23c43583",
   "metadata": {},
   "outputs": [],
   "source": []
  },
  {
   "cell_type": "markdown",
   "id": "c9610454",
   "metadata": {},
   "source": [
    "7. Write a program to calculate the factorial of a given number."
   ]
  },
  {
   "cell_type": "code",
   "execution_count": 28,
   "id": "904ad79f",
   "metadata": {},
   "outputs": [],
   "source": [
    "def factorial(n):\n",
    "    if n==1:\n",
    "        return 1\n",
    "    else:\n",
    "        return n*factorial(n-1)"
   ]
  },
  {
   "cell_type": "code",
   "execution_count": 29,
   "id": "300163fa",
   "metadata": {},
   "outputs": [
    {
     "data": {
      "text/plain": [
       "5040"
      ]
     },
     "execution_count": 29,
     "metadata": {},
     "output_type": "execute_result"
    }
   ],
   "source": [
    "s=7\n",
    "factorial(s)"
   ]
  },
  {
   "cell_type": "code",
   "execution_count": null,
   "id": "ccbb2f4a",
   "metadata": {},
   "outputs": [],
   "source": []
  },
  {
   "cell_type": "markdown",
   "id": "c434b5ff",
   "metadata": {},
   "source": [
    "8. Implement a function to check if a given number is prime."
   ]
  },
  {
   "cell_type": "code",
   "execution_count": 30,
   "id": "2ee537c9",
   "metadata": {},
   "outputs": [],
   "source": [
    "def isprime(num):\n",
    "    if num>1:\n",
    "        for i in range(2,int(num/2)+1):\n",
    "            if num%i == 0:\n",
    "                print(num,\"is not a prime\")\n",
    "                break\n",
    "                \n",
    "        else:\n",
    "            print(num, \"is a prime\")\n",
    "            \n",
    "    else:\n",
    "        print(num, \"is not a prime\")"
   ]
  },
  {
   "cell_type": "code",
   "execution_count": 31,
   "id": "856c33d0",
   "metadata": {},
   "outputs": [
    {
     "name": "stdout",
     "output_type": "stream",
     "text": [
      "79 is a prime\n"
     ]
    }
   ],
   "source": [
    "n=79\n",
    "isprime(n)"
   ]
  },
  {
   "cell_type": "code",
   "execution_count": null,
   "id": "0d511d63",
   "metadata": {},
   "outputs": [],
   "source": []
  },
  {
   "cell_type": "markdown",
   "id": "6681610f",
   "metadata": {},
   "source": [
    "9. Write a Python program to sort a list of integers in ascending order."
   ]
  },
  {
   "cell_type": "code",
   "execution_count": 32,
   "id": "65603f10",
   "metadata": {},
   "outputs": [],
   "source": [
    "def sort(arr):                               #Bubble sort\n",
    "    n=len(arr)\n",
    "    for i in range(n):\n",
    "        for j in range(0,n-i-1):\n",
    "            if arr[j]>arr[j+1]:\n",
    "                arr[j],arr[j+1]=arr[j+1],arr[j]\n",
    "    return arr"
   ]
  },
  {
   "cell_type": "code",
   "execution_count": 33,
   "id": "cdc7f156",
   "metadata": {},
   "outputs": [
    {
     "data": {
      "text/plain": [
       "[2, 3, 4, 8, 12, 34, 34, 54, 56, 67, 76]"
      ]
     },
     "execution_count": 33,
     "metadata": {},
     "output_type": "execute_result"
    }
   ],
   "source": [
    "l2=[2,3,4,12,34,54,34,76,67,56,8]\n",
    "sort(l2)"
   ]
  },
  {
   "cell_type": "code",
   "execution_count": 34,
   "id": "5d72c769",
   "metadata": {},
   "outputs": [],
   "source": [
    "def sort2(arr):\n",
    "    n=len(arr)                                   #selection sort\n",
    "    for i in range(n):\n",
    "        min_index=i\n",
    "        for j in range(i+1,n):\n",
    "            if arr[j]<arr[min_index]:\n",
    "                min_index=j\n",
    "                \n",
    "        arr[i],arr[min_index]=arr[min_index],arr[i]\n",
    "    return arr"
   ]
  },
  {
   "cell_type": "code",
   "execution_count": 35,
   "id": "0bc68cde",
   "metadata": {},
   "outputs": [
    {
     "data": {
      "text/plain": [
       "[2, 3, 4, 8, 12, 34, 34, 54, 56, 67, 76]"
      ]
     },
     "execution_count": 35,
     "metadata": {},
     "output_type": "execute_result"
    }
   ],
   "source": [
    "sort2(l2)"
   ]
  },
  {
   "cell_type": "code",
   "execution_count": null,
   "id": "6deec882",
   "metadata": {},
   "outputs": [],
   "source": []
  },
  {
   "cell_type": "code",
   "execution_count": null,
   "id": "ac71fb8e",
   "metadata": {},
   "outputs": [],
   "source": []
  },
  {
   "cell_type": "markdown",
   "id": "f2a52ce8",
   "metadata": {},
   "source": [
    "10. Implement a function to find the sum of all numbers in a list."
   ]
  },
  {
   "cell_type": "code",
   "execution_count": 38,
   "id": "b9edc906",
   "metadata": {},
   "outputs": [],
   "source": [
    "def total_sum(l):\n",
    "    sum=0\n",
    "    for i in l:\n",
    "        sum=sum+i\n",
    "    return sum"
   ]
  },
  {
   "cell_type": "code",
   "execution_count": 39,
   "id": "18eaf181",
   "metadata": {},
   "outputs": [
    {
     "data": {
      "text/plain": [
       "[2, 3, 4, 8, 12, 34, 34, 54, 56, 67, 76]"
      ]
     },
     "execution_count": 39,
     "metadata": {},
     "output_type": "execute_result"
    }
   ],
   "source": [
    "l2"
   ]
  },
  {
   "cell_type": "code",
   "execution_count": 40,
   "id": "bbd96fe3",
   "metadata": {},
   "outputs": [
    {
     "data": {
      "text/plain": [
       "350"
      ]
     },
     "execution_count": 40,
     "metadata": {},
     "output_type": "execute_result"
    }
   ],
   "source": [
    "total_sum(l2)"
   ]
  },
  {
   "cell_type": "code",
   "execution_count": 41,
   "id": "4c15ebb2",
   "metadata": {},
   "outputs": [],
   "source": [
    "def inbilt_sum(l):\n",
    "    return sum(l)"
   ]
  },
  {
   "cell_type": "code",
   "execution_count": 42,
   "id": "421adb98",
   "metadata": {},
   "outputs": [
    {
     "data": {
      "text/plain": [
       "350"
      ]
     },
     "execution_count": 42,
     "metadata": {},
     "output_type": "execute_result"
    }
   ],
   "source": [
    "inbilt_sum(l2)"
   ]
  },
  {
   "cell_type": "code",
   "execution_count": null,
   "id": "ec1cadf0",
   "metadata": {},
   "outputs": [],
   "source": []
  },
  {
   "cell_type": "code",
   "execution_count": null,
   "id": "19b9333f",
   "metadata": {},
   "outputs": [],
   "source": []
  },
  {
   "cell_type": "markdown",
   "id": "c404fd57",
   "metadata": {},
   "source": [
    "11. Write a program to find the common elements between two lists"
   ]
  },
  {
   "cell_type": "code",
   "execution_count": 43,
   "id": "91080632",
   "metadata": {},
   "outputs": [],
   "source": [
    "def common_elements(l1,l2):\n",
    "    common=[]\n",
    "    for i in l1:\n",
    "        if i in l2:\n",
    "            common.append(i)\n",
    "            \n",
    "    return common\n",
    "            "
   ]
  },
  {
   "cell_type": "code",
   "execution_count": 44,
   "id": "7e13b61e",
   "metadata": {},
   "outputs": [
    {
     "data": {
      "text/plain": [
       "[3, 43]"
      ]
     },
     "execution_count": 44,
     "metadata": {},
     "output_type": "execute_result"
    }
   ],
   "source": [
    "l1=[1,3,5,6,12,43,67]\n",
    "l2=[2,3,4,7,43,0,98,7]\n",
    "common_elements(l1,l2)"
   ]
  },
  {
   "cell_type": "code",
   "execution_count": 45,
   "id": "75a8ec7b",
   "metadata": {},
   "outputs": [],
   "source": [
    "def common_member(a,b):\n",
    "    a_set=set(a)\n",
    "    b_set=set(b)\n",
    "    \n",
    "    if (a_set & b_set):\n",
    "        return (a_set & b_set)\n",
    "    \n",
    "    else:\n",
    "        print(\"There are no elements\")"
   ]
  },
  {
   "cell_type": "code",
   "execution_count": 46,
   "id": "778af386",
   "metadata": {},
   "outputs": [
    {
     "data": {
      "text/plain": [
       "{3, 43}"
      ]
     },
     "execution_count": 46,
     "metadata": {},
     "output_type": "execute_result"
    }
   ],
   "source": [
    "common_member(l1,l2)"
   ]
  },
  {
   "cell_type": "code",
   "execution_count": 47,
   "id": "bd35382d",
   "metadata": {},
   "outputs": [],
   "source": [
    "def common(a,b):\n",
    "    a=set(a)\n",
    "    b=set(b)\n",
    "    \n",
    "    if len(a.intersection(b))>0:\n",
    "        return a.intersection(b)\n",
    "    else:\n",
    "        print(\"no elements\")"
   ]
  },
  {
   "cell_type": "code",
   "execution_count": 48,
   "id": "b4dfce11",
   "metadata": {},
   "outputs": [
    {
     "data": {
      "text/plain": [
       "{3, 43}"
      ]
     },
     "execution_count": 48,
     "metadata": {},
     "output_type": "execute_result"
    }
   ],
   "source": [
    "common(l1,l2)"
   ]
  },
  {
   "cell_type": "code",
   "execution_count": null,
   "id": "c52872b9",
   "metadata": {},
   "outputs": [],
   "source": []
  },
  {
   "cell_type": "code",
   "execution_count": null,
   "id": "e01523d9",
   "metadata": {},
   "outputs": [],
   "source": []
  },
  {
   "cell_type": "markdown",
   "id": "bc178148",
   "metadata": {},
   "source": [
    "12. Implement a function to check if a given string is an anagram of another string."
   ]
  },
  {
   "cell_type": "code",
   "execution_count": 49,
   "id": "7f504383",
   "metadata": {},
   "outputs": [],
   "source": [
    "def isanagram(str1,str2):\n",
    "    \n",
    "    if len(str1)!=len(str2):\n",
    "        return False\n",
    "    \n",
    "    counter=[0]*26\n",
    "    for i in range(len(str1)):\n",
    "        counter[ord(str1[i])-ord('a')]+=1\n",
    "        counter[ord(str2[i])-ord('a')]-=1\n",
    "        \n",
    "    for count in counter:\n",
    "        if count != 0:\n",
    "            return False\n",
    "    return True"
   ]
  },
  {
   "cell_type": "code",
   "execution_count": 50,
   "id": "7db0c8e4",
   "metadata": {},
   "outputs": [
    {
     "data": {
      "text/plain": [
       "False"
      ]
     },
     "execution_count": 50,
     "metadata": {},
     "output_type": "execute_result"
    }
   ],
   "source": [
    "str1='sertfg'\n",
    "str2='srghuj'\n",
    "isanagram(str1,str2)"
   ]
  },
  {
   "cell_type": "code",
   "execution_count": null,
   "id": "b816e35e",
   "metadata": {},
   "outputs": [],
   "source": []
  },
  {
   "cell_type": "code",
   "execution_count": null,
   "id": "586c9543",
   "metadata": {},
   "outputs": [],
   "source": []
  },
  {
   "cell_type": "markdown",
   "id": "8a569f0d",
   "metadata": {},
   "source": [
    "13. Write a Python program to generate all permutations of a given string."
   ]
  },
  {
   "cell_type": "code",
   "execution_count": 51,
   "id": "1f561bb3",
   "metadata": {},
   "outputs": [],
   "source": [
    "def permutations(s,answer):\n",
    "    if len(s)==0:\n",
    "        print(answer, end=\" \")\n",
    "        return\n",
    "    \n",
    "    for i in range(len(s)):\n",
    "        ch=s[i]\n",
    "        left_substr=s[0:i]\n",
    "        right_substr=s[i+1:]\n",
    "        rest=left_substr+right_substr\n",
    "        \n",
    "        permutations(rest, answer+ch)\n",
    "        \n",
    "        "
   ]
  },
  {
   "cell_type": "code",
   "execution_count": 52,
   "id": "c456f3b5",
   "metadata": {},
   "outputs": [
    {
     "name": "stdout",
     "output_type": "stream",
     "text": [
      "abcd abdc acbd acdb adbc adcb bacd badc bcad bcda bdac bdca cabd cadb cbad cbda cdab cdba dabc dacb dbac dbca dcab dcba "
     ]
    }
   ],
   "source": [
    "s='abcd'\n",
    "answer=\"\"\n",
    "permutations(s,answer)"
   ]
  },
  {
   "cell_type": "code",
   "execution_count": 53,
   "id": "5826c502",
   "metadata": {},
   "outputs": [],
   "source": [
    "def tostring(l):\n",
    "    return ''.join(l)\n",
    "\n",
    "def permute(a,l,r):\n",
    "    if l==r:\n",
    "        print(tostring(a))\n",
    "        \n",
    "    else:\n",
    "        for i in range(l, r+1):\n",
    "            a[l],a[i]=a[i],a[l]\n",
    "            permute(a, l+1,r)\n",
    "            a[l],a[i]=a[i],a[l]\n",
    "            "
   ]
  },
  {
   "cell_type": "code",
   "execution_count": 54,
   "id": "6340c1f0",
   "metadata": {},
   "outputs": [
    {
     "name": "stdout",
     "output_type": "stream",
     "text": [
      "abcd\n",
      "abdc\n",
      "acbd\n",
      "acdb\n",
      "adcb\n",
      "adbc\n",
      "bacd\n",
      "badc\n",
      "bcad\n",
      "bcda\n",
      "bdca\n",
      "bdac\n",
      "cbad\n",
      "cbda\n",
      "cabd\n",
      "cadb\n",
      "cdab\n",
      "cdba\n",
      "dbca\n",
      "dbac\n",
      "dcba\n",
      "dcab\n",
      "dacb\n",
      "dabc\n"
     ]
    }
   ],
   "source": [
    "s='abcd'\n",
    "n=len(s)\n",
    "a=list(s)\n",
    "permute(a,0,n-1)"
   ]
  },
  {
   "cell_type": "code",
   "execution_count": null,
   "id": "597e7f2d",
   "metadata": {},
   "outputs": [],
   "source": []
  },
  {
   "cell_type": "code",
   "execution_count": null,
   "id": "c626e963",
   "metadata": {},
   "outputs": [],
   "source": []
  },
  {
   "cell_type": "markdown",
   "id": "817b951e",
   "metadata": {},
   "source": [
    "14. Implement a function to calculate the Fibonacci sequence up to a given number of terms."
   ]
  },
  {
   "cell_type": "code",
   "execution_count": 165,
   "id": "0b691e38",
   "metadata": {},
   "outputs": [],
   "source": [
    "def fibonacci(n):\n",
    "    if n<0:\n",
    "        return 0\n",
    "    elif n==1 or n==0:\n",
    "        return 1\n",
    "    else:\n",
    "        return fibonacci(n-1)+fibonacci(n-2)"
   ]
  },
  {
   "cell_type": "code",
   "execution_count": 166,
   "id": "5be4964d",
   "metadata": {},
   "outputs": [
    {
     "data": {
      "text/plain": [
       "89"
      ]
     },
     "execution_count": 166,
     "metadata": {},
     "output_type": "execute_result"
    }
   ],
   "source": [
    "fibonacci(10)"
   ]
  },
  {
   "cell_type": "code",
   "execution_count": null,
   "id": "a416560e",
   "metadata": {},
   "outputs": [],
   "source": []
  },
  {
   "cell_type": "code",
   "execution_count": null,
   "id": "1fc8c918",
   "metadata": {},
   "outputs": [],
   "source": []
  },
  {
   "cell_type": "markdown",
   "id": "2d1bed94",
   "metadata": {},
   "source": [
    "15. Write a program to find the median of a list of numbers."
   ]
  },
  {
   "cell_type": "code",
   "execution_count": 55,
   "id": "a7f57456",
   "metadata": {},
   "outputs": [],
   "source": [
    "def median(l):\n",
    "    l.sort()\n",
    "    mid=len(l)//2\n",
    "    res=(l[mid]+l[~mid])/2\n",
    "    \n",
    "    return res"
   ]
  },
  {
   "cell_type": "code",
   "execution_count": 56,
   "id": "2d7d9db6",
   "metadata": {},
   "outputs": [
    {
     "data": {
      "text/plain": [
       "[2, 3, 4, 7, 43, 0, 98, 7]"
      ]
     },
     "execution_count": 56,
     "metadata": {},
     "output_type": "execute_result"
    }
   ],
   "source": [
    "l2"
   ]
  },
  {
   "cell_type": "code",
   "execution_count": 57,
   "id": "ee6a3fe8",
   "metadata": {},
   "outputs": [
    {
     "data": {
      "text/plain": [
       "5.5"
      ]
     },
     "execution_count": 57,
     "metadata": {},
     "output_type": "execute_result"
    }
   ],
   "source": [
    "median(l2)"
   ]
  },
  {
   "cell_type": "code",
   "execution_count": 58,
   "id": "4ec632f2",
   "metadata": {},
   "outputs": [],
   "source": [
    "import statistics\n",
    "def find_median(l):\n",
    "    res=statistics.median(l)\n",
    "    return res"
   ]
  },
  {
   "cell_type": "code",
   "execution_count": 59,
   "id": "024740f1",
   "metadata": {},
   "outputs": [
    {
     "data": {
      "text/plain": [
       "5.5"
      ]
     },
     "execution_count": 59,
     "metadata": {},
     "output_type": "execute_result"
    }
   ],
   "source": [
    "find_median(l2)"
   ]
  },
  {
   "cell_type": "code",
   "execution_count": null,
   "id": "199da006",
   "metadata": {},
   "outputs": [],
   "source": []
  },
  {
   "cell_type": "code",
   "execution_count": null,
   "id": "3663ad12",
   "metadata": {},
   "outputs": [],
   "source": []
  },
  {
   "cell_type": "markdown",
   "id": "cd5e7711",
   "metadata": {},
   "source": [
    "16. Implement a function to check if a given list is sorted in non-decreasing order."
   ]
  },
  {
   "cell_type": "code",
   "execution_count": 3,
   "id": "566d56c5",
   "metadata": {},
   "outputs": [],
   "source": [
    "def non_decreasing_order(arr):\n",
    "    n=len(arr)\n",
    "    for i in range(n):\n",
    "        min_index=i\n",
    "        for j in range(i+1,n):\n",
    "            if arr[j]<arr[min_index]:\n",
    "                min_index=j\n",
    "        \n",
    "        arr[i],arr[min_index]=arr[min_index],arr[i]\n",
    "    return arr"
   ]
  },
  {
   "cell_type": "code",
   "execution_count": 4,
   "id": "557610ea",
   "metadata": {},
   "outputs": [],
   "source": [
    "list1=[3,4,2,56,4,7,8,9,11,23]"
   ]
  },
  {
   "cell_type": "code",
   "execution_count": 6,
   "id": "ee40d405",
   "metadata": {},
   "outputs": [
    {
     "data": {
      "text/plain": [
       "[2, 3, 4, 4, 7, 8, 9, 11, 23, 56]"
      ]
     },
     "execution_count": 6,
     "metadata": {},
     "output_type": "execute_result"
    }
   ],
   "source": [
    "non_decreasing_order(list1)"
   ]
  },
  {
   "cell_type": "code",
   "execution_count": 60,
   "id": "74143aa1",
   "metadata": {},
   "outputs": [],
   "source": [
    "def sort(arr):                               #Bubble sort\n",
    "    n=len(arr)\n",
    "    for i in range(n):\n",
    "        for j in range(0,n-i-1):\n",
    "            if arr[j]>arr[j+1]:\n",
    "                arr[j],arr[j+1]=arr[j+1],arr[j]\n",
    "    return arr"
   ]
  },
  {
   "cell_type": "code",
   "execution_count": null,
   "id": "9413a1d5",
   "metadata": {},
   "outputs": [],
   "source": []
  },
  {
   "cell_type": "code",
   "execution_count": null,
   "id": "6f10a6dd",
   "metadata": {},
   "outputs": [],
   "source": []
  },
  {
   "cell_type": "markdown",
   "id": "18b58b52",
   "metadata": {},
   "source": [
    "17. Write a Python program to find the intersection of two lists."
   ]
  },
  {
   "cell_type": "code",
   "execution_count": 65,
   "id": "c8d91e66",
   "metadata": {},
   "outputs": [],
   "source": [
    "def intersection_list(arr1,arr2):\n",
    "    arr1_set=set(arr1)\n",
    "    arr2_set=set(arr2)\n",
    "    \n",
    "    if (arr1_set & arr2_set):\n",
    "        return list(arr1_set & arr2_set)"
   ]
  },
  {
   "cell_type": "code",
   "execution_count": 66,
   "id": "0a589e08",
   "metadata": {},
   "outputs": [
    {
     "data": {
      "text/plain": [
       "[8, 2, 4, 6]"
      ]
     },
     "execution_count": 66,
     "metadata": {},
     "output_type": "execute_result"
    }
   ],
   "source": [
    "arr1=[1,2,3,4,5,6,7,8]\n",
    "arr2=[2,4,6,8,9,10]\n",
    "\n",
    "intersection_list(arr1,arr2)"
   ]
  },
  {
   "cell_type": "code",
   "execution_count": 67,
   "id": "0ffee1e0",
   "metadata": {},
   "outputs": [],
   "source": [
    "def common_member(a,b):\n",
    "    common=[]\n",
    "    \n",
    "    a_set=set(a)\n",
    "    b_set=set(b)\n",
    "    for i in a:\n",
    "        if i in b:\n",
    "            common.append(i)\n",
    "    return common"
   ]
  },
  {
   "cell_type": "code",
   "execution_count": 68,
   "id": "41d7492b",
   "metadata": {},
   "outputs": [
    {
     "data": {
      "text/plain": [
       "[2, 4, 6, 8]"
      ]
     },
     "execution_count": 68,
     "metadata": {},
     "output_type": "execute_result"
    }
   ],
   "source": [
    "common_member(arr1,arr2)"
   ]
  },
  {
   "cell_type": "code",
   "execution_count": null,
   "id": "a4f704f8",
   "metadata": {},
   "outputs": [],
   "source": []
  },
  {
   "cell_type": "code",
   "execution_count": null,
   "id": "fe53289a",
   "metadata": {},
   "outputs": [],
   "source": []
  },
  {
   "cell_type": "markdown",
   "id": "df80301a",
   "metadata": {},
   "source": [
    "18. Implement a function to find the maximum subarray sum in a given list"
   ]
  },
  {
   "cell_type": "code",
   "execution_count": 79,
   "id": "b902f4e2",
   "metadata": {},
   "outputs": [],
   "source": [
    "def maximum_subarray(arr):\n",
    "    if len(arr)==0:\n",
    "        return 0\n",
    "        \n",
    "    max_so_far= -float('inf')\n",
    "    max_ending_here=0\n",
    "    \n",
    "    for i in range(0,len(arr)):\n",
    "        max_ending_here=max_ending_here+arr[i]\n",
    "        \n",
    "        if max_so_far<max_ending_here:\n",
    "            max_so_far=max_ending_here\n",
    "            \n",
    "        if max_ending_here<0:\n",
    "            max_ending_here=0\n",
    "            \n",
    "    return max_so_far"
   ]
  },
  {
   "cell_type": "code",
   "execution_count": 80,
   "id": "df2f8ac6",
   "metadata": {},
   "outputs": [
    {
     "data": {
      "text/plain": [
       "7"
      ]
     },
     "execution_count": 80,
     "metadata": {},
     "output_type": "execute_result"
    }
   ],
   "source": [
    "a = [-2, -3, 4, -1, -2, 1, 5, -3]\n",
    "maximum_subarray(a)"
   ]
  },
  {
   "cell_type": "code",
   "execution_count": 88,
   "id": "bda8e488",
   "metadata": {},
   "outputs": [],
   "source": [
    "from sys import maxsize\n",
    "\n",
    "def MaxSubArray(arr):\n",
    "    \n",
    "    max_so_far= -maxsize-1\n",
    "    max_ending_here=0\n",
    "    start=0\n",
    "    end=0\n",
    "    s=0\n",
    "    \n",
    "    for i in range(0,len(arr)):\n",
    "        max_ending_here+=arr[i]\n",
    "        \n",
    "        if max_so_far <max_ending_here:\n",
    "            max_so_far=max_ending_here\n",
    "            start=s\n",
    "            end=i\n",
    "            \n",
    "        if max_ending_here<0:\n",
    "            max_ending_here=0\n",
    "            s=i+1\n",
    "                \n",
    "    return max_so_far"
   ]
  },
  {
   "cell_type": "code",
   "execution_count": 91,
   "id": "1e5cf7be",
   "metadata": {},
   "outputs": [
    {
     "data": {
      "text/plain": [
       "[-2, -3, 4, -1, -2, 1, 5, -3]"
      ]
     },
     "execution_count": 91,
     "metadata": {},
     "output_type": "execute_result"
    }
   ],
   "source": [
    "a"
   ]
  },
  {
   "cell_type": "code",
   "execution_count": 90,
   "id": "67aa72c2",
   "metadata": {},
   "outputs": [
    {
     "data": {
      "text/plain": [
       "7"
      ]
     },
     "execution_count": 90,
     "metadata": {},
     "output_type": "execute_result"
    }
   ],
   "source": [
    "MaxSubArray(a)"
   ]
  },
  {
   "cell_type": "code",
   "execution_count": null,
   "id": "749cf3cc",
   "metadata": {},
   "outputs": [],
   "source": []
  },
  {
   "cell_type": "code",
   "execution_count": null,
   "id": "4db2f0b9",
   "metadata": {},
   "outputs": [],
   "source": []
  },
  {
   "cell_type": "markdown",
   "id": "bd0ca670",
   "metadata": {},
   "source": [
    "19. Write a program to remove all vowels from a given string."
   ]
  },
  {
   "cell_type": "code",
   "execution_count": 142,
   "id": "c9fd2d25",
   "metadata": {},
   "outputs": [],
   "source": [
    "def remove_vowels(string):\n",
    "    vowels=['a', 'e', 'i', 'o', 'u', 'A', 'E', 'I', 'O', 'U']\n",
    "    \n",
    "    list_comre=[i for i in string if i not in vowels]\n",
    "    \n",
    "    result=''.join(list_comre)\n",
    "    return result"
   ]
  },
  {
   "cell_type": "code",
   "execution_count": 143,
   "id": "2ff55bd0",
   "metadata": {},
   "outputs": [
    {
     "data": {
      "text/plain": [
       "'bcdfg'"
      ]
     },
     "execution_count": 143,
     "metadata": {},
     "output_type": "execute_result"
    }
   ],
   "source": [
    "string='abcdefg'\n",
    "remove_vowels(string)"
   ]
  },
  {
   "cell_type": "code",
   "execution_count": 144,
   "id": "e3ed182e",
   "metadata": {},
   "outputs": [],
   "source": [
    "import re                                         #Using regex\n",
    "def rem_vowel(string):\n",
    "    return (re.sub(\"[aeiouAEIOU]\",\"\",string))"
   ]
  },
  {
   "cell_type": "code",
   "execution_count": null,
   "id": "3376b403",
   "metadata": {},
   "outputs": [],
   "source": []
  },
  {
   "cell_type": "markdown",
   "id": "141e2f8d",
   "metadata": {},
   "source": [
    "20. Implement a function to reverse the order of words in a given sentence."
   ]
  },
  {
   "cell_type": "code",
   "execution_count": 163,
   "id": "c1d5481a",
   "metadata": {},
   "outputs": [],
   "source": [
    "def reverse_words(string):\n",
    "    conv_list=string.split()\n",
    "    rev_words=conv_list[::-1]\n",
    "    result=' '.join(rev_words)\n",
    "    return result\n",
    "   "
   ]
  },
  {
   "cell_type": "code",
   "execution_count": 164,
   "id": "14432f63",
   "metadata": {},
   "outputs": [
    {
     "data": {
      "text/plain": [
       "'well is all'"
      ]
     },
     "execution_count": 164,
     "metadata": {},
     "output_type": "execute_result"
    }
   ],
   "source": [
    "string='all is well'\n",
    "reverse_words(string)"
   ]
  },
  {
   "cell_type": "code",
   "execution_count": null,
   "id": "982ec3c7",
   "metadata": {},
   "outputs": [],
   "source": [
    "from collections import deque                           #Using queue \n",
    "\n",
    "def reverseWords(s):\n",
    "    left, right = 0, len(s) - 1\n",
    "\n",
    "    while left <= right and s[left] == ' ':          #Removing spaces befor first word and after last word\n",
    "        left += 1\n",
    "    while left <= right and s[right] == ' ':\n",
    "        right -= 1\n",
    "\n",
    "    d = deque()\n",
    "    word = []\n",
    "    \n",
    "    while left <= right:\n",
    "        c = s[left]\n",
    "\n",
    "        if len(word) != 0 and c == ' ':\n",
    "            d.appendleft(''.join(word))\n",
    "            word = []\n",
    "        elif c != ' ':\n",
    "            word.append(c)\n",
    "        left += 1\n",
    "\n",
    "    d.appendleft(''.join(word))\n",
    "\n",
    "    return ' '.join(d)"
   ]
  },
  {
   "cell_type": "markdown",
   "id": "19202ad1",
   "metadata": {},
   "source": [
    "21. Write a Python program to check if two strings are anagrams of each other."
   ]
  },
  {
   "cell_type": "code",
   "execution_count": 169,
   "id": "a89585e7",
   "metadata": {},
   "outputs": [],
   "source": [
    "def anagram(str1,str2):\n",
    "    \n",
    "    if len(str1) != len(str2):\n",
    "        return False\n",
    "    \n",
    "    counter=[0]*26\n",
    "    for i in range(len(str1)):\n",
    "        counter[ord(str1[i])-ord('a')]+=1\n",
    "        counter[ord(str2[i])-ord('a')]-=1\n",
    "        \n",
    "    for count in counter:\n",
    "        if count !=0:\n",
    "            return False\n",
    "    return True"
   ]
  },
  {
   "cell_type": "code",
   "execution_count": 170,
   "id": "8ace08cd",
   "metadata": {},
   "outputs": [
    {
     "data": {
      "text/plain": [
       "False"
      ]
     },
     "execution_count": 170,
     "metadata": {},
     "output_type": "execute_result"
    }
   ],
   "source": [
    "str1='sertfg'\n",
    "str2='srghuj'\n",
    "anagram(str1,str2)"
   ]
  },
  {
   "cell_type": "code",
   "execution_count": null,
   "id": "56e049ab",
   "metadata": {},
   "outputs": [],
   "source": []
  },
  {
   "cell_type": "code",
   "execution_count": null,
   "id": "dc97145a",
   "metadata": {},
   "outputs": [],
   "source": []
  },
  {
   "cell_type": "markdown",
   "id": "3abba8c3",
   "metadata": {},
   "source": [
    "22. Implement a function to find the first non-repeating character in a string."
   ]
  },
  {
   "cell_type": "code",
   "execution_count": 185,
   "id": "01e179df",
   "metadata": {},
   "outputs": [],
   "source": [
    "def non_repeat_char(string):\n",
    "    hash_map={}\n",
    "    for i in range(len(string)):\n",
    "        c=string[i]\n",
    "        hash_map[c]=hash_map.get(c,0)+1\n",
    "        \n",
    "    for i in range(len(string)):\n",
    "        if hash_map[string[i]]==1:\n",
    "            return string[i]\n",
    "    return -1"
   ]
  },
  {
   "cell_type": "code",
   "execution_count": 186,
   "id": "c2a409ee",
   "metadata": {},
   "outputs": [
    {
     "data": {
      "text/plain": [
       "'m'"
      ]
     },
     "execution_count": 186,
     "metadata": {},
     "output_type": "execute_result"
    }
   ],
   "source": [
    "string='homogeneoush'\n",
    "non_repeat_char(string)"
   ]
  },
  {
   "cell_type": "code",
   "execution_count": null,
   "id": "a2309082",
   "metadata": {},
   "outputs": [],
   "source": []
  },
  {
   "cell_type": "code",
   "execution_count": null,
   "id": "80ff2e26",
   "metadata": {},
   "outputs": [],
   "source": []
  },
  {
   "cell_type": "markdown",
   "id": "2d12f9cc",
   "metadata": {},
   "source": [
    "23. Write a program to find the prime factors of a given number."
   ]
  },
  {
   "cell_type": "code",
   "execution_count": 187,
   "id": "3df599fd",
   "metadata": {},
   "outputs": [],
   "source": [
    "import math\n",
    "\n",
    "def prime_factor(number):\n",
    "    \n",
    "    while number %2 ==0:\n",
    "        print(2,)\n",
    "        number=number/2\n",
    "        \n",
    "    #n must be odd at this point\n",
    "    # so a skip of 2 ( i = i + 2) can be used    \n",
    "    for i in range(3, int(math.sqrt(number))+1, 2):\n",
    "        while number%i ==0:\n",
    "            print(i,)\n",
    "            number=number/i\n",
    "            \n",
    "            \n",
    "    if number>2:\n",
    "        print(number)\n",
    "        \n",
    "        "
   ]
  },
  {
   "cell_type": "code",
   "execution_count": 201,
   "id": "d97ce744",
   "metadata": {},
   "outputs": [
    {
     "name": "stdout",
     "output_type": "stream",
     "text": [
      "2\n",
      "3\n",
      "3\n",
      "3\n",
      "7\n",
      "53\n"
     ]
    }
   ],
   "source": [
    "num = 20034\n",
    "prime_factor(num)  "
   ]
  },
  {
   "cell_type": "code",
   "execution_count": null,
   "id": "02e6d524",
   "metadata": {},
   "outputs": [],
   "source": []
  },
  {
   "cell_type": "code",
   "execution_count": null,
   "id": "007174bb",
   "metadata": {},
   "outputs": [],
   "source": []
  },
  {
   "cell_type": "markdown",
   "id": "41aeb85b",
   "metadata": {},
   "source": [
    "24. Implement a function to check if a given number is a power of two."
   ]
  },
  {
   "cell_type": "code",
   "execution_count": 207,
   "id": "2e16b211",
   "metadata": {},
   "outputs": [],
   "source": [
    "def power_of_two(n):\n",
    "    if n<=0:\n",
    "        return False\n",
    "    \n",
    "    if n==1:\n",
    "        return True\n",
    "    \n",
    "    while (n%2 ==0):\n",
    "        n=n/2\n",
    "        \n",
    "    return n==1"
   ]
  },
  {
   "cell_type": "code",
   "execution_count": 210,
   "id": "312819f6",
   "metadata": {},
   "outputs": [
    {
     "data": {
      "text/plain": [
       "True"
      ]
     },
     "execution_count": 210,
     "metadata": {},
     "output_type": "execute_result"
    }
   ],
   "source": [
    "power_of_two(64)"
   ]
  },
  {
   "cell_type": "code",
   "execution_count": null,
   "id": "c73fd0bf",
   "metadata": {},
   "outputs": [],
   "source": []
  },
  {
   "cell_type": "markdown",
   "id": "7a30e691",
   "metadata": {},
   "source": [
    "25. Write a Python program to merge two sorted lists into a single sorted list."
   ]
  },
  {
   "cell_type": "code",
   "execution_count": 236,
   "id": "4872317b",
   "metadata": {},
   "outputs": [],
   "source": [
    "def merge_sorted_arrays(arr1,arr2):\n",
    "    p=0\n",
    "    q=0\n",
    "    k=0\n",
    "    n=len(arr1)\n",
    "    m=len(arr2)\n",
    "    \n",
    "    arr=[0]*(n+m)\n",
    "    while p<n and q<m:\n",
    "        if arr1[p]<arr2[q]:\n",
    "            arr[k]=arr1[p]\n",
    "            p+=1\n",
    "        else:\n",
    "            arr[k]=arr2[q]\n",
    "            q+=1\n",
    "        k+=1\n",
    "        \n",
    "    while p<n:\n",
    "        arr[k]=arr1[p]\n",
    "        p+=1\n",
    "        k+=1\n",
    "        \n",
    "    while q<m:\n",
    "        arr[k]=arr2[q]\n",
    "        q+=1\n",
    "        k+=1\n",
    "        \n",
    "    return arr"
   ]
  },
  {
   "cell_type": "code",
   "execution_count": 237,
   "id": "000c3b25",
   "metadata": {},
   "outputs": [
    {
     "data": {
      "text/plain": [
       "[1, 2, 3, 4, 5, 6, 7, 8, 9, 10, 11, 33]"
      ]
     },
     "execution_count": 237,
     "metadata": {},
     "output_type": "execute_result"
    }
   ],
   "source": [
    "arr1=[1,3,5,7,9,11,33]\n",
    "arr2=[2,4,6,8,10]\n",
    "merge_sorted_arrays(arr1,arr2)"
   ]
  },
  {
   "cell_type": "code",
   "execution_count": null,
   "id": "776a6321",
   "metadata": {},
   "outputs": [],
   "source": []
  },
  {
   "cell_type": "code",
   "execution_count": null,
   "id": "34dc1e3c",
   "metadata": {},
   "outputs": [],
   "source": []
  },
  {
   "cell_type": "markdown",
   "id": "761bad40",
   "metadata": {},
   "source": [
    "26. Implement a function to find the mode of a list of numbers."
   ]
  },
  {
   "cell_type": "code",
   "execution_count": 238,
   "id": "69392135",
   "metadata": {},
   "outputs": [],
   "source": [
    "from collections import Counter\n",
    "\n",
    "def mode_element(arr):\n",
    "    count=Counter(arr)\n",
    "    result=max(count)\n",
    "    return result"
   ]
  },
  {
   "cell_type": "code",
   "execution_count": 241,
   "id": "ec23ef02",
   "metadata": {},
   "outputs": [
    {
     "data": {
      "text/plain": [
       "3"
      ]
     },
     "execution_count": 241,
     "metadata": {},
     "output_type": "execute_result"
    }
   ],
   "source": [
    "arr=[1,2,3,2,3,1,2,3,3,3]\n",
    "mode_element(arr)"
   ]
  },
  {
   "cell_type": "code",
   "execution_count": 244,
   "id": "a36f4dd3",
   "metadata": {},
   "outputs": [],
   "source": [
    "def mode(arr):\n",
    "    c={}\n",
    "    \n",
    "    for i in arr:\n",
    "        if i not in c:\n",
    "            c[i]=1\n",
    "        else:\n",
    "            c[i]+=1\n",
    "            \n",
    "    result=[i for i,j in c.items() if j==max(c.values())]\n",
    "    \n",
    "    return result"
   ]
  },
  {
   "cell_type": "code",
   "execution_count": 245,
   "id": "1e58a7e4",
   "metadata": {},
   "outputs": [
    {
     "data": {
      "text/plain": [
       "[3]"
      ]
     },
     "execution_count": 245,
     "metadata": {},
     "output_type": "execute_result"
    }
   ],
   "source": [
    "mode(arr)"
   ]
  },
  {
   "cell_type": "code",
   "execution_count": null,
   "id": "20edde15",
   "metadata": {},
   "outputs": [],
   "source": []
  },
  {
   "cell_type": "code",
   "execution_count": null,
   "id": "d9abcc89",
   "metadata": {},
   "outputs": [],
   "source": []
  },
  {
   "cell_type": "markdown",
   "id": "ca0016ee",
   "metadata": {},
   "source": [
    "27. Write a program to find the greatest common divisor (GCD) of two numbers."
   ]
  },
  {
   "cell_type": "code",
   "execution_count": 246,
   "id": "fb4b1820",
   "metadata": {},
   "outputs": [],
   "source": [
    "def gcd(a,b):\n",
    "    if b==0:\n",
    "        return a\n",
    "    return gcd(b,a%b)"
   ]
  },
  {
   "cell_type": "code",
   "execution_count": 247,
   "id": "dcccef43",
   "metadata": {},
   "outputs": [
    {
     "data": {
      "text/plain": [
       "2"
      ]
     },
     "execution_count": 247,
     "metadata": {},
     "output_type": "execute_result"
    }
   ],
   "source": [
    "a=82\n",
    "b=72\n",
    "gcd(a,b)"
   ]
  },
  {
   "cell_type": "code",
   "execution_count": null,
   "id": "27783eea",
   "metadata": {},
   "outputs": [],
   "source": []
  },
  {
   "cell_type": "markdown",
   "id": "bf903b97",
   "metadata": {},
   "source": [
    "28. Implement a function to calculate the square root of a given number."
   ]
  },
  {
   "cell_type": "code",
   "execution_count": 250,
   "id": "a5ec6ff4",
   "metadata": {},
   "outputs": [],
   "source": [
    "import math\n",
    "   #Using inbuilt function\n",
    "def square_root(n):\n",
    "    return math.sqrt(n)"
   ]
  },
  {
   "cell_type": "code",
   "execution_count": 251,
   "id": "cc0ae822",
   "metadata": {},
   "outputs": [
    {
     "data": {
      "text/plain": [
       "9.433981132056603"
      ]
     },
     "execution_count": 251,
     "metadata": {},
     "output_type": "execute_result"
    }
   ],
   "source": [
    "a=89\n",
    "square_root(89)"
   ]
  },
  {
   "cell_type": "code",
   "execution_count": 252,
   "id": "f6c95270",
   "metadata": {},
   "outputs": [],
   "source": [
    "#floor squrt using binary search\n",
    "\n",
    "def floor_sqrt(n):\n",
    "    \n",
    "    if n==0 or n==1:\n",
    "        return n\n",
    "    \n",
    "    start=1\n",
    "    end=n//2\n",
    "    \n",
    "    while start<end:\n",
    "        mid=(start+end)//2\n",
    "        \n",
    "        if mid*mid==n:\n",
    "            return mid\n",
    "        \n",
    "        if mid*mid < n:\n",
    "            start=mid+1\n",
    "            ans=mid\n",
    "            \n",
    "        else:\n",
    "            end=mid-1\n",
    "            \n",
    "    return ans"
   ]
  },
  {
   "cell_type": "code",
   "execution_count": 253,
   "id": "675625aa",
   "metadata": {},
   "outputs": [
    {
     "data": {
      "text/plain": [
       "9"
      ]
     },
     "execution_count": 253,
     "metadata": {},
     "output_type": "execute_result"
    }
   ],
   "source": [
    "n=99\n",
    "floor_sqrt(n)"
   ]
  },
  {
   "cell_type": "code",
   "execution_count": null,
   "id": "2d4fb804",
   "metadata": {},
   "outputs": [],
   "source": []
  },
  {
   "cell_type": "markdown",
   "id": "edbe1de1",
   "metadata": {},
   "source": [
    "29. Write a Python program to check if a given string is a valid palindrome ignoring non-alphanumeric characters."
   ]
  },
  {
   "cell_type": "code",
   "execution_count": 258,
   "id": "bd7e882d",
   "metadata": {},
   "outputs": [],
   "source": [
    "def isvalid_palindrome(string):\n",
    "    i=0\n",
    "    j=len(string)-1\n",
    "    \n",
    "    while i<j:\n",
    "        while i<j and string[i].isalnum():\n",
    "            i+=1\n",
    "        while i<j and string[j].isalnum():\n",
    "            j-=1\n",
    "            \n",
    "        if string[i].lower() != string[j].lower():\n",
    "            return False\n",
    "        i+=1\n",
    "        j-=1\n",
    "        \n",
    "    return True"
   ]
  },
  {
   "cell_type": "code",
   "execution_count": 259,
   "id": "6e804dfa",
   "metadata": {},
   "outputs": [
    {
     "data": {
      "text/plain": [
       "True"
      ]
     },
     "execution_count": 259,
     "metadata": {},
     "output_type": "execute_result"
    }
   ],
   "source": [
    "string ='ab2cd1dcba3'\n",
    "isvalid_palindrome(string)"
   ]
  },
  {
   "cell_type": "code",
   "execution_count": null,
   "id": "e3859eb6",
   "metadata": {},
   "outputs": [],
   "source": []
  },
  {
   "cell_type": "code",
   "execution_count": null,
   "id": "621e3060",
   "metadata": {},
   "outputs": [],
   "source": []
  },
  {
   "cell_type": "markdown",
   "id": "f6d9e511",
   "metadata": {},
   "source": [
    "30. Implement a function to find the minimum element in a rotated sorted list."
   ]
  },
  {
   "cell_type": "code",
   "execution_count": 9,
   "id": "483837e1",
   "metadata": {},
   "outputs": [],
   "source": [
    "def find_minele_rotate_arr(arr):\n",
    "    min_ele=arr[0]                          #Traverse Method\n",
    "    n=len(arr)\n",
    "    \n",
    "    for i in range(n):\n",
    "        if arr[i]<min_ele:\n",
    "            min_ele=arr[i]\n",
    "            \n",
    "    return min_ele"
   ]
  },
  {
   "cell_type": "code",
   "execution_count": 10,
   "id": "c460bddc",
   "metadata": {},
   "outputs": [
    {
     "data": {
      "text/plain": [
       "1"
      ]
     },
     "execution_count": 10,
     "metadata": {},
     "output_type": "execute_result"
    }
   ],
   "source": [
    "arr = [5, 6, 1, 2, 3, 4]\n",
    "find_minele_rotate_arr(arr)"
   ]
  },
  {
   "cell_type": "code",
   "execution_count": 11,
   "id": "80d492ee",
   "metadata": {},
   "outputs": [],
   "source": [
    "def minele_rotatedarray(arr):\n",
    "    n=len(arr)\n",
    "    \n",
    "    low=0                                            #Using binary Search\n",
    "    high=n-1\n",
    "    \n",
    "    if high<low:\n",
    "        return arr[0]\n",
    "    \n",
    "    if high==low:\n",
    "        return arr[low]\n",
    "    \n",
    "    mid=int((high+low)/2)\n",
    "    \n",
    "    if mid<high and arr[mid+1]<arr[mid]:\n",
    "        return arr[mid+1]\n",
    "    \n",
    "    if mid>low and arr[mid]<arr[mid-1]:\n",
    "        return arr[mid]\n",
    "    \n",
    "    if arr[high]>arr[mid]:\n",
    "        high=mid-1\n",
    "    else:\n",
    "        low=mid+1\n",
    "    \n",
    "    "
   ]
  },
  {
   "cell_type": "code",
   "execution_count": 12,
   "id": "4f3f32ea",
   "metadata": {},
   "outputs": [
    {
     "data": {
      "text/plain": [
       "1"
      ]
     },
     "execution_count": 12,
     "metadata": {},
     "output_type": "execute_result"
    }
   ],
   "source": [
    "minele_rotatedarray(arr)"
   ]
  },
  {
   "cell_type": "code",
   "execution_count": null,
   "id": "c1949dd2",
   "metadata": {},
   "outputs": [],
   "source": []
  },
  {
   "cell_type": "code",
   "execution_count": null,
   "id": "c50c155e",
   "metadata": {},
   "outputs": [],
   "source": []
  },
  {
   "cell_type": "markdown",
   "id": "cdf87e92",
   "metadata": {},
   "source": [
    "31. Write a program to find the sum of all even numbers in a list."
   ]
  },
  {
   "cell_type": "code",
   "execution_count": 13,
   "id": "8e997560",
   "metadata": {},
   "outputs": [],
   "source": [
    "def even_sum(arr):\n",
    "    total=0\n",
    "    for i in arr:\n",
    "        if i%2==0:\n",
    "            total=total+i\n",
    "            \n",
    "    return total"
   ]
  },
  {
   "cell_type": "code",
   "execution_count": 14,
   "id": "0de1b424",
   "metadata": {},
   "outputs": [
    {
     "data": {
      "text/plain": [
       "20"
      ]
     },
     "execution_count": 14,
     "metadata": {},
     "output_type": "execute_result"
    }
   ],
   "source": [
    "arr=[1,2,3,4,5,6,7,8,9]\n",
    "even_sum(arr)"
   ]
  },
  {
   "cell_type": "code",
   "execution_count": null,
   "id": "9b9a50d0",
   "metadata": {},
   "outputs": [],
   "source": []
  },
  {
   "cell_type": "code",
   "execution_count": null,
   "id": "bd7482f5",
   "metadata": {},
   "outputs": [],
   "source": []
  },
  {
   "cell_type": "markdown",
   "id": "fff3cd3d",
   "metadata": {},
   "source": [
    "32. Implement a function to calculate the power of a number using recursion."
   ]
  },
  {
   "cell_type": "code",
   "execution_count": 28,
   "id": "57a57658",
   "metadata": {},
   "outputs": [],
   "source": [
    "def power(n,p):\n",
    "    if p==0:                       #Using Recursion\n",
    "        return 1\n",
    "    if p<0:\n",
    "        n=1/n\n",
    "        p=-p\n",
    "    if p==1:\n",
    "        return n\n",
    "    else:\n",
    "        return n*power(n,(p-1))"
   ]
  },
  {
   "cell_type": "code",
   "execution_count": 29,
   "id": "54252514",
   "metadata": {},
   "outputs": [
    {
     "data": {
      "text/plain": [
       "1024"
      ]
     },
     "execution_count": 29,
     "metadata": {},
     "output_type": "execute_result"
    }
   ],
   "source": [
    "power(2,10)"
   ]
  },
  {
   "cell_type": "code",
   "execution_count": null,
   "id": "f50364c4",
   "metadata": {},
   "outputs": [],
   "source": []
  },
  {
   "cell_type": "code",
   "execution_count": null,
   "id": "856905c6",
   "metadata": {},
   "outputs": [],
   "source": []
  },
  {
   "cell_type": "markdown",
   "id": "aa6b7b49",
   "metadata": {},
   "source": [
    "33. Write a Python program to remove duplicates from a list while preserving the order."
   ]
  },
  {
   "cell_type": "code",
   "execution_count": 30,
   "id": "97c804ff",
   "metadata": {},
   "outputs": [],
   "source": [
    "def preserve_removeduplicate(arr):\n",
    "    seen=set()\n",
    "    seen_add=seen.add\n",
    "    return [i for i in arr if not (i in seen or seen_add(i))]"
   ]
  },
  {
   "cell_type": "code",
   "execution_count": 31,
   "id": "8bcb19e1",
   "metadata": {},
   "outputs": [
    {
     "data": {
      "text/plain": [
       "[1, 2, 0, 3]"
      ]
     },
     "execution_count": 31,
     "metadata": {},
     "output_type": "execute_result"
    }
   ],
   "source": [
    "items = [1, 2, 0, 1, 3, 2]\n",
    "preserve_removeduplicate(items)"
   ]
  },
  {
   "cell_type": "code",
   "execution_count": 33,
   "id": "42cb36d4",
   "metadata": {},
   "outputs": [],
   "source": [
    "from collections import OrderedDict\n",
    "def remove_dup(arr):\n",
    "    result=list(OrderedDict.fromkeys(arr))\n",
    "    return result"
   ]
  },
  {
   "cell_type": "code",
   "execution_count": 34,
   "id": "f4dfabb9",
   "metadata": {},
   "outputs": [
    {
     "data": {
      "text/plain": [
       "[1, 2, 0, 3]"
      ]
     },
     "execution_count": 34,
     "metadata": {},
     "output_type": "execute_result"
    }
   ],
   "source": [
    "remove_dup(items)"
   ]
  },
  {
   "cell_type": "code",
   "execution_count": null,
   "id": "d7ed02bf",
   "metadata": {},
   "outputs": [],
   "source": []
  },
  {
   "cell_type": "code",
   "execution_count": null,
   "id": "b4d90b5c",
   "metadata": {},
   "outputs": [],
   "source": []
  },
  {
   "cell_type": "markdown",
   "id": "686c2ad8",
   "metadata": {},
   "source": [
    "34. Implement a function to find the longest common prefix among a list of strings."
   ]
  },
  {
   "cell_type": "code",
   "execution_count": 37,
   "id": "a4a3bb7e",
   "metadata": {},
   "outputs": [],
   "source": [
    "def longestCommonPrefix(s):\n",
    "    n=len(s)\n",
    "    \n",
    "    if n==0:\n",
    "        return \"\"\n",
    "    \n",
    "    if n==1:\n",
    "        return s[0]\n",
    "    \n",
    "    s.sort()\n",
    "    \n",
    "    end=min(len(s[0]),len(s[n-1]))\n",
    "    \n",
    "    i=0\n",
    "    while (i<end and s[0][i] ==s[n-1][i]):\n",
    "        i+=1\n",
    "    pre=s[0][0:i]\n",
    "    \n",
    "    return pre"
   ]
  },
  {
   "cell_type": "code",
   "execution_count": 49,
   "id": "8dcb4938",
   "metadata": {},
   "outputs": [
    {
     "data": {
      "text/plain": [
       "'abc'"
      ]
     },
     "execution_count": 49,
     "metadata": {},
     "output_type": "execute_result"
    }
   ],
   "source": [
    "string= [\"abcdhgyj\", \"abcfjuhg\",\"abcd\", \"abcquvz\"]\n",
    "longestCommonPrefix(string)"
   ]
  },
  {
   "cell_type": "code",
   "execution_count": null,
   "id": "d4a86b53",
   "metadata": {},
   "outputs": [],
   "source": []
  },
  {
   "cell_type": "code",
   "execution_count": null,
   "id": "ef533b3a",
   "metadata": {},
   "outputs": [],
   "source": []
  },
  {
   "cell_type": "markdown",
   "id": "e5d518e6",
   "metadata": {},
   "source": [
    "35. Write a program to check if a given number is a perfect square."
   ]
  },
  {
   "cell_type": "code",
   "execution_count": 53,
   "id": "dd516d5a",
   "metadata": {},
   "outputs": [],
   "source": [
    "def isperfect_square(n):\n",
    "    \n",
    "    low,high=1,n-1\n",
    "    \n",
    "    while high-low>1:\n",
    "        mid=int((low+high)/2)\n",
    "        \n",
    "        if n==1:\n",
    "            return True\n",
    "        \n",
    "        elif mid*mid==n:\n",
    "            return 1\n",
    "        \n",
    "        elif mid*mid >n:\n",
    "            high=mid-1\n",
    "                                        #Using binary search\n",
    "        elif mid*mid<n:\n",
    "            low=mid+1\n",
    "            \n",
    "    if low*low==n or high*high==n:\n",
    "        return True\n",
    "    \n",
    "    return False\n",
    "            \n",
    "    "
   ]
  },
  {
   "cell_type": "code",
   "execution_count": 56,
   "id": "6074f1ff",
   "metadata": {},
   "outputs": [
    {
     "data": {
      "text/plain": [
       "True"
      ]
     },
     "execution_count": 56,
     "metadata": {},
     "output_type": "execute_result"
    }
   ],
   "source": [
    "n=196\n",
    "isperfect_square(n)"
   ]
  },
  {
   "cell_type": "code",
   "execution_count": 61,
   "id": "7f140668",
   "metadata": {},
   "outputs": [],
   "source": [
    "import math\n",
    "\n",
    "def is_squareroot(n):\n",
    "    if n>=0:\n",
    "        res=int(math.sqrt(n))\n",
    "        \n",
    "        return ((res*res)==n)\n",
    "    return False"
   ]
  },
  {
   "cell_type": "code",
   "execution_count": 63,
   "id": "56fe77ed",
   "metadata": {},
   "outputs": [
    {
     "data": {
      "text/plain": [
       "False"
      ]
     },
     "execution_count": 63,
     "metadata": {},
     "output_type": "execute_result"
    }
   ],
   "source": [
    "n=200\n",
    "is_squareroot(n)"
   ]
  },
  {
   "cell_type": "code",
   "execution_count": null,
   "id": "b11d3dc7",
   "metadata": {},
   "outputs": [],
   "source": []
  },
  {
   "cell_type": "code",
   "execution_count": null,
   "id": "2e074dc3",
   "metadata": {},
   "outputs": [],
   "source": []
  },
  {
   "cell_type": "markdown",
   "id": "f9c351e5",
   "metadata": {},
   "source": [
    "36. Implement a function to calculate the product of all elements in a list."
   ]
  },
  {
   "cell_type": "code",
   "execution_count": 64,
   "id": "081bff33",
   "metadata": {},
   "outputs": [],
   "source": [
    "def product_list(list1):\n",
    "    mul=1\n",
    "    \n",
    "    for i in list1:\n",
    "        mul=mul*i\n",
    "    return mul\n"
   ]
  },
  {
   "cell_type": "code",
   "execution_count": 65,
   "id": "e1a37255",
   "metadata": {},
   "outputs": [
    {
     "data": {
      "text/plain": [
       "120"
      ]
     },
     "execution_count": 65,
     "metadata": {},
     "output_type": "execute_result"
    }
   ],
   "source": [
    "list1=[1,2,3,4,5]\n",
    "product_list(list1)"
   ]
  },
  {
   "cell_type": "code",
   "execution_count": null,
   "id": "33540a01",
   "metadata": {},
   "outputs": [],
   "source": []
  },
  {
   "cell_type": "code",
   "execution_count": null,
   "id": "72f19d21",
   "metadata": {},
   "outputs": [],
   "source": []
  },
  {
   "cell_type": "markdown",
   "id": "de5422f9",
   "metadata": {},
   "source": [
    "37. Write a Python program to reverse the order of words in a sentence while preserving the word order."
   ]
  },
  {
   "cell_type": "code",
   "execution_count": 66,
   "id": "11764195",
   "metadata": {},
   "outputs": [],
   "source": [
    "def reverse_words(s):\n",
    "    return ' '.join(word[::-1] for word in s.split())"
   ]
  },
  {
   "cell_type": "code",
   "execution_count": 75,
   "id": "0302d4bc",
   "metadata": {},
   "outputs": [
    {
     "name": "stdout",
     "output_type": "stream",
     "text": [
      "before reverse words:  lets do some thing\n",
      "After reverse words :  stel od emos gniht\n"
     ]
    }
   ],
   "source": [
    "s=\"lets do some thing\"\n",
    "print('before reverse words: ',s)\n",
    "res=reverse_words(s)\n",
    "print(\"After reverse words : \",res)"
   ]
  },
  {
   "cell_type": "code",
   "execution_count": 76,
   "id": "13c7fe10",
   "metadata": {},
   "outputs": [],
   "source": [
    "def reverse(s):\n",
    "    s=s.split()\n",
    "    result=[word[::-1] for word in s]\n",
    "    result=' '.join(result)\n",
    "    return result"
   ]
  },
  {
   "cell_type": "code",
   "execution_count": 77,
   "id": "52bb40a8",
   "metadata": {},
   "outputs": [
    {
     "data": {
      "text/plain": [
       "'stel od emos gniht'"
      ]
     },
     "execution_count": 77,
     "metadata": {},
     "output_type": "execute_result"
    }
   ],
   "source": [
    "reverse(s)"
   ]
  },
  {
   "cell_type": "code",
   "execution_count": null,
   "id": "7a65bb40",
   "metadata": {},
   "outputs": [],
   "source": []
  },
  {
   "cell_type": "code",
   "execution_count": null,
   "id": "0bc5ada9",
   "metadata": {},
   "outputs": [],
   "source": []
  },
  {
   "cell_type": "markdown",
   "id": "6f9eefd1",
   "metadata": {},
   "source": [
    "38. Implement a function to find the missing number in a given list of consecutive numbers."
   ]
  },
  {
   "cell_type": "code",
   "execution_count": 87,
   "id": "0bfa267f",
   "metadata": {},
   "outputs": [],
   "source": [
    "def missing_consecutive(list1):\n",
    "    \n",
    "    hash_set=set(list1)\n",
    "    \n",
    "    number_of_ele=len(hash_set)+1\n",
    "    \n",
    "    for num in range(number_of_ele):\n",
    "        if num not in hash_set:\n",
    "            return num\n",
    "        \n",
    "    return -1"
   ]
  },
  {
   "cell_type": "code",
   "execution_count": 88,
   "id": "4b73e645",
   "metadata": {},
   "outputs": [
    {
     "data": {
      "text/plain": [
       "4"
      ]
     },
     "execution_count": 88,
     "metadata": {},
     "output_type": "execute_result"
    }
   ],
   "source": [
    "list1=[1,2,3,2,5,0]\n",
    "missing_consecutive(list1)"
   ]
  },
  {
   "cell_type": "code",
   "execution_count": 93,
   "id": "493cd965",
   "metadata": {},
   "outputs": [],
   "source": [
    "def find_missing(arr):\n",
    "    \n",
    "    n=len(arr)\n",
    "    lo,high=0,n-1\n",
    "    \n",
    "    while high>lo:\n",
    "        mid = lo+(high-lo)//2\n",
    "        \n",
    "        if arr[mid]-mid==arr[0]:\n",
    "            if arr[mid+1] -arr[mid]>1:\n",
    "                return arr[mid]+1\n",
    "            \n",
    "            else:\n",
    "                lo=mid+1\n",
    "                \n",
    "        else:\n",
    "            if arr[mid]-arr[mid-1]>1:\n",
    "                return arr[mid]-1\n",
    "            else:\n",
    "                high=mid-1\n",
    "                                                     \n",
    "    return -1\n",
    "            \n",
    "                \n",
    "                \n",
    "                "
   ]
  },
  {
   "cell_type": "code",
   "execution_count": 95,
   "id": "b869ede9",
   "metadata": {},
   "outputs": [
    {
     "data": {
      "text/plain": [
       "-6"
      ]
     },
     "execution_count": 95,
     "metadata": {},
     "output_type": "execute_result"
    }
   ],
   "source": [
    "arr = [-9, -8, -7, -5, -4, -3, -2, -1, 0 ]\n",
    "find_missing(arr)"
   ]
  },
  {
   "cell_type": "code",
   "execution_count": null,
   "id": "9c5180cd",
   "metadata": {},
   "outputs": [],
   "source": []
  },
  {
   "cell_type": "code",
   "execution_count": null,
   "id": "26240696",
   "metadata": {},
   "outputs": [],
   "source": []
  },
  {
   "cell_type": "markdown",
   "id": "86dd7467",
   "metadata": {},
   "source": [
    "39. Write a program to find the sum of digits of a given number."
   ]
  },
  {
   "cell_type": "code",
   "execution_count": 109,
   "id": "577e099b",
   "metadata": {},
   "outputs": [],
   "source": [
    "def sum_of_n(num):\n",
    "    total=0\n",
    "    for i in range(n+1):\n",
    "        total=total+i\n",
    "        \n",
    "    return total"
   ]
  },
  {
   "cell_type": "code",
   "execution_count": 110,
   "id": "7563b8fd",
   "metadata": {},
   "outputs": [
    {
     "data": {
      "text/plain": [
       "55"
      ]
     },
     "execution_count": 110,
     "metadata": {},
     "output_type": "execute_result"
    }
   ],
   "source": [
    "n=10\n",
    "sum_of_n(n)"
   ]
  },
  {
   "cell_type": "code",
   "execution_count": 111,
   "id": "08721940",
   "metadata": {},
   "outputs": [],
   "source": [
    "def using_formula(n):\n",
    "    return n*(n+1)/2"
   ]
  },
  {
   "cell_type": "code",
   "execution_count": 112,
   "id": "00fb65ea",
   "metadata": {},
   "outputs": [
    {
     "data": {
      "text/plain": [
       "120.0"
      ]
     },
     "execution_count": 112,
     "metadata": {},
     "output_type": "execute_result"
    }
   ],
   "source": [
    "n=15\n",
    "using_formula(n)"
   ]
  },
  {
   "cell_type": "code",
   "execution_count": null,
   "id": "4ff4d663",
   "metadata": {},
   "outputs": [],
   "source": []
  },
  {
   "cell_type": "code",
   "execution_count": null,
   "id": "79c2a53d",
   "metadata": {},
   "outputs": [],
   "source": []
  },
  {
   "cell_type": "markdown",
   "id": "847ed064",
   "metadata": {},
   "source": [
    "40. Implement a function to check if a given string is a valid palindrome considering case sensitivity"
   ]
  },
  {
   "cell_type": "code",
   "execution_count": 113,
   "id": "c644d412",
   "metadata": {},
   "outputs": [],
   "source": [
    "def isvalid_palindrome(string):\n",
    "    i=0\n",
    "    j=len(string)-1\n",
    "    \n",
    "    while i<j:\n",
    "        while i<j and string[i].isalnum():\n",
    "            i+=1\n",
    "        while i<j and string[j].isalnum():\n",
    "            j-=1\n",
    "            \n",
    "        if string[i].lower() != string[j].lower():\n",
    "            return False\n",
    "        i+=1\n",
    "        j-=1\n",
    "        \n",
    "    return True"
   ]
  },
  {
   "cell_type": "code",
   "execution_count": 114,
   "id": "a203922a",
   "metadata": {},
   "outputs": [
    {
     "data": {
      "text/plain": [
       "True"
      ]
     },
     "execution_count": 114,
     "metadata": {},
     "output_type": "execute_result"
    }
   ],
   "source": [
    "string ='Ab2cd1dca3'\n",
    "isvalid_palindrome(string)"
   ]
  },
  {
   "cell_type": "code",
   "execution_count": null,
   "id": "9933cb71",
   "metadata": {},
   "outputs": [],
   "source": []
  },
  {
   "cell_type": "code",
   "execution_count": null,
   "id": "625a8b1b",
   "metadata": {},
   "outputs": [],
   "source": []
  },
  {
   "cell_type": "markdown",
   "id": "db60cad4",
   "metadata": {},
   "source": [
    "41. Write a Python program to find the smallest missing positive integer in a list"
   ]
  },
  {
   "cell_type": "code",
   "execution_count": 115,
   "id": "c93472e5",
   "metadata": {},
   "outputs": [],
   "source": [
    "def first_missing_positive(arr):\n",
    "    \n",
    "    n=len(arr)\n",
    "    for i in range(n):\n",
    "        \n",
    "        while(arr[i]>=1 and arr[i]<=n  and arr[i] != arr[arr[i]-1]):\n",
    "            temp=arr[i]\n",
    "            arr[i]=arr[arr[i]-1]\n",
    "            arr[temp-1]=temp                                           #using swapping \n",
    "            \n",
    "    for i in range(n):\n",
    "        if arr[i] != i+1:\n",
    "            return i+1\n",
    "        \n",
    "    return n+1\n",
    "            "
   ]
  },
  {
   "cell_type": "code",
   "execution_count": 116,
   "id": "9023ace7",
   "metadata": {},
   "outputs": [
    {
     "data": {
      "text/plain": [
       "1"
      ]
     },
     "execution_count": 116,
     "metadata": {},
     "output_type": "execute_result"
    }
   ],
   "source": [
    "arr = [0, 10, 2, -10, -20]\n",
    "first_missing_positive(arr)"
   ]
  },
  {
   "cell_type": "code",
   "execution_count": null,
   "id": "a22dcecd",
   "metadata": {},
   "outputs": [],
   "source": []
  },
  {
   "cell_type": "code",
   "execution_count": null,
   "id": "a16cb08f",
   "metadata": {},
   "outputs": [],
   "source": []
  },
  {
   "cell_type": "markdown",
   "id": "3ed2dfaa",
   "metadata": {},
   "source": [
    "42. Implement a function to find the longest palindrome substring in a given string."
   ]
  },
  {
   "cell_type": "code",
   "execution_count": 117,
   "id": "b9d4c103",
   "metadata": {},
   "outputs": [],
   "source": [
    "#Naive appraoch \n",
    "\n",
    "\n",
    "def PrintSub(st,low,high):\n",
    "    for i in range(low,high+1):\n",
    "        print(st[i],end=\" \")\n",
    "        \n",
    "def LongPalindromeSubst(st):\n",
    "    \n",
    "    n=len(st)\n",
    "    \n",
    "    max_length=1\n",
    "    start=0\n",
    "    \n",
    "    for i in range(n):\n",
    "        for j in range(i,n):\n",
    "            \n",
    "            flag=1\n",
    "            \n",
    "            for k in range(0, ((j-i)//2)+1):\n",
    "                if st[i+k] != st[j-k]:\n",
    "                    flag=0\n",
    "                    \n",
    "            if flag!=0 and (j-i+1)>max_length:\n",
    "                start=i\n",
    "                max_length=j=i+1\n",
    "                \n",
    "    PrintSub(st,start,start+max_length-1)"
   ]
  },
  {
   "cell_type": "code",
   "execution_count": 119,
   "id": "5de9304f",
   "metadata": {},
   "outputs": [
    {
     "name": "stdout",
     "output_type": "stream",
     "text": [
      "a f i s k k s i f a "
     ]
    }
   ],
   "source": [
    "st=\"ahgarfsgrafiskksifarrkikll\"\n",
    "LongPalindromeSubst(st)"
   ]
  },
  {
   "cell_type": "code",
   "execution_count": null,
   "id": "313cdedf",
   "metadata": {},
   "outputs": [],
   "source": []
  },
  {
   "cell_type": "code",
   "execution_count": null,
   "id": "a54ea778",
   "metadata": {},
   "outputs": [],
   "source": []
  },
  {
   "cell_type": "raw",
   "id": "42383b66",
   "metadata": {},
   "source": [
    "Input: n = 6\n",
    "Output: true\n",
    "Divisors of 6 are 1, 2 and 3. Sum of \n",
    "divisors is 6.\n"
   ]
  },
  {
   "cell_type": "code",
   "execution_count": 158,
   "id": "2418fb34",
   "metadata": {},
   "outputs": [],
   "source": [
    "def find_occurance_of_ele(arr,tar):\n",
    "    cnt={}\n",
    "    \n",
    "    for i in range(len(arr)):\n",
    "        c=arr[i]\n",
    "        cnt[c]=cnt.get(c,0)+1\n",
    "        \n",
    "    if tar in cnt:\n",
    "        return cnt[tar]\n",
    "    else:\n",
    "        return -1\n",
    "\n"
   ]
  },
  {
   "cell_type": "code",
   "execution_count": 159,
   "id": "7ed45dfe",
   "metadata": {},
   "outputs": [
    {
     "data": {
      "text/plain": [
       "2"
      ]
     },
     "execution_count": 159,
     "metadata": {},
     "output_type": "execute_result"
    }
   ],
   "source": [
    "l=[1,2,3,4,3,2,6,4,1,2,6]\n",
    "tar=6\n",
    "find_occurance_of_ele(l,tar)"
   ]
  },
  {
   "cell_type": "code",
   "execution_count": null,
   "id": "328f977d",
   "metadata": {},
   "outputs": [],
   "source": []
  },
  {
   "cell_type": "code",
   "execution_count": null,
   "id": "e54195c2",
   "metadata": {},
   "outputs": [],
   "source": []
  },
  {
   "cell_type": "markdown",
   "id": "76de2d71",
   "metadata": {},
   "source": [
    "44. Implement a function to check if a given number is a perfect number"
   ]
  },
  {
   "cell_type": "raw",
   "id": "a41dfd69",
   "metadata": {},
   "source": [
    "Input: n = 6\n",
    "Output: true\n",
    "Divisors of 6 are 1, 2 and 3. Sum of \n",
    "divisors is 6."
   ]
  },
  {
   "cell_type": "code",
   "execution_count": 160,
   "id": "d657555d",
   "metadata": {},
   "outputs": [],
   "source": [
    "def isperfect(num):\n",
    "    \n",
    "    tot=1\n",
    "    i=2\n",
    "    \n",
    "    while i*i <=num:\n",
    "        if num%i ==0:\n",
    "            tot=tot+i+num/i\n",
    "            \n",
    "        i+=1\n",
    "        \n",
    "    if tot==num and num !=1:\n",
    "        return True\n",
    "    return False\n",
    "            "
   ]
  },
  {
   "cell_type": "code",
   "execution_count": 161,
   "id": "455424e6",
   "metadata": {},
   "outputs": [
    {
     "data": {
      "text/plain": [
       "True"
      ]
     },
     "execution_count": 161,
     "metadata": {},
     "output_type": "execute_result"
    }
   ],
   "source": [
    "n=496\n",
    "isperfect(n)"
   ]
  },
  {
   "cell_type": "code",
   "execution_count": 162,
   "id": "a8257016",
   "metadata": {},
   "outputs": [
    {
     "data": {
      "text/plain": [
       "True"
      ]
     },
     "execution_count": 162,
     "metadata": {},
     "output_type": "execute_result"
    }
   ],
   "source": [
    "n=28\n",
    "isperfect(n)"
   ]
  },
  {
   "cell_type": "code",
   "execution_count": 157,
   "id": "0e67f4a9",
   "metadata": {},
   "outputs": [
    {
     "data": {
      "text/plain": [
       "False"
      ]
     },
     "execution_count": 157,
     "metadata": {},
     "output_type": "execute_result"
    }
   ],
   "source": [
    "n=100\n",
    "isperfect(n)"
   ]
  },
  {
   "cell_type": "code",
   "execution_count": null,
   "id": "abd2e6de",
   "metadata": {},
   "outputs": [],
   "source": []
  },
  {
   "cell_type": "code",
   "execution_count": null,
   "id": "7e170da7",
   "metadata": {},
   "outputs": [],
   "source": []
  },
  {
   "cell_type": "markdown",
   "id": "bad19b16",
   "metadata": {},
   "source": [
    "45. Write a Python program to remove all duplicates from a string."
   ]
  },
  {
   "cell_type": "code",
   "execution_count": 163,
   "id": "457922b3",
   "metadata": {},
   "outputs": [],
   "source": [
    "def remove_dulictae_instring(string):\n",
    "    res=[]\n",
    "    \n",
    "    for ch in string:\n",
    "        if ch not in res:\n",
    "            res.append(ch)\n",
    "            \n",
    "    for i in range(0,len(res)):\n",
    "        print(res[i],end=\" \")"
   ]
  },
  {
   "cell_type": "code",
   "execution_count": 165,
   "id": "d2c3eb28",
   "metadata": {},
   "outputs": [
    {
     "name": "stdout",
     "output_type": "stream",
     "text": [
      "  a n d y o u r e t h m s "
     ]
    }
   ],
   "source": [
    "string =\" and you are the most one\"\n",
    "remove_dulictae_instring(string)"
   ]
  },
  {
   "cell_type": "code",
   "execution_count": 166,
   "id": "d8033e1c",
   "metadata": {},
   "outputs": [],
   "source": [
    "def another_string(string):\n",
    "    p=\"\"\n",
    "    for char in string:\n",
    "        if char not in p:\n",
    "            p=p+char \n",
    "    return p"
   ]
  },
  {
   "cell_type": "code",
   "execution_count": null,
   "id": "fea4ab50",
   "metadata": {},
   "outputs": [],
   "source": []
  },
  {
   "cell_type": "code",
   "execution_count": null,
   "id": "6c0ae8eb",
   "metadata": {},
   "outputs": [],
   "source": []
  },
  {
   "cell_type": "markdown",
   "id": "fb28d999",
   "metadata": {},
   "source": [
    "46. Implement a function to find the first missing positive"
   ]
  },
  {
   "cell_type": "code",
   "execution_count": 167,
   "id": "1fac878e",
   "metadata": {},
   "outputs": [],
   "source": [
    "def first_missing_positive(arr):\n",
    "    \n",
    "    n=len(arr)\n",
    "    for i in range(n):\n",
    "        \n",
    "        while(arr[i]>=1 and arr[i]<=n  and arr[i] != arr[arr[i]-1]):\n",
    "            temp=arr[i]\n",
    "            arr[i]=arr[arr[i]-1]\n",
    "            arr[temp-1]=temp                                          \n",
    "            \n",
    "    for i in range(n):\n",
    "        if arr[i] != i+1:\n",
    "            return i+1\n",
    "        \n",
    "    return n+1\n",
    "            "
   ]
  },
  {
   "cell_type": "code",
   "execution_count": 168,
   "id": "e88f4a04",
   "metadata": {},
   "outputs": [
    {
     "data": {
      "text/plain": [
       "5"
      ]
     },
     "execution_count": 168,
     "metadata": {},
     "output_type": "execute_result"
    }
   ],
   "source": [
    "arr = [0, 10, 2,1,4,3, -10, -20]\n",
    "first_missing_positive(arr)"
   ]
  },
  {
   "cell_type": "code",
   "execution_count": null,
   "id": "2bfb9e99",
   "metadata": {},
   "outputs": [],
   "source": []
  },
  {
   "cell_type": "code",
   "execution_count": null,
   "id": "dfeac329",
   "metadata": {},
   "outputs": [],
   "source": []
  }
 ],
 "metadata": {
  "kernelspec": {
   "display_name": "Python 3 (ipykernel)",
   "language": "python",
   "name": "python3"
  },
  "language_info": {
   "codemirror_mode": {
    "name": "ipython",
    "version": 3
   },
   "file_extension": ".py",
   "mimetype": "text/x-python",
   "name": "python",
   "nbconvert_exporter": "python",
   "pygments_lexer": "ipython3",
   "version": "3.10.9"
  }
 },
 "nbformat": 4,
 "nbformat_minor": 5
}
